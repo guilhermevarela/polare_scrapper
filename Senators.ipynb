{
 "cells": [
  {
   "cell_type": "markdown",
   "metadata": {},
   "source": [
    "# Senators notebook\n",
    "\n",
    "Parses datasets/senado/senators_with_memberships-**termid**.json creating / updating the following polare entites:\n",
    "* Agents\n",
    "* Memberships (Senate, Parties)\n",
    "* Organizations (Senate)\n",
    "* Posts (Senate)\n",
    "* Roles (Afiliate, Senator)\n",
    "\n",
    "## 1. Imports and Constants Declaration"
   ]
  },
  {
   "cell_type": "code",
   "execution_count": 10,
   "metadata": {
    "collapsed": true
   },
   "outputs": [],
   "source": [
    "import json   # reads scrapped data\n",
    "import pandas as pd # helps with file management and visualization\n",
    "from uuid import uuid4 # creates new uuids for Posts\n",
    "\n",
    "termid = 55 # legislatura\n",
    "\n",
    "PROV = 'sen'\n",
    "FILE_SUFFIX = termid\n",
    "SUB_DIR = '{:}/'.format(termid)\n",
    "JSON_PATH =  'datasets/senado/'\n",
    "\n",
    "BASE_PATH = 'datasets/slp/'\n",
    "AGENTS_PATH = 'datasets/slp/agents/'\n",
    "MEMBERSHIPS_PATH = 'datasets/slp/memberships/'\n",
    "ORGANIZATIONS_PATH = 'datasets/slp/organizations/'\n",
    "ROLES_PATH = 'datasets/slp/roles/'\n",
    "POSTS_PATH = 'datasets/slp/posts/'\n",
    "\n",
    "SENATE_URI = '81311052-e5b6-46fe-87ba-83865fa0ffb0' \n",
    "SENATOR_URI = 'd57a29ff-c69a-4b32-b98a-3dd8f204c0a3' \n",
    "AFFILIATE_URI = '6a688541-b16a-45ca-8aa9-fa700373279f' \n"
   ]
  },
  {
   "cell_type": "markdown",
   "metadata": {},
   "source": [
    " ## 2. Getting the Parties"
   ]
  },
  {
   "cell_type": "code",
   "execution_count": 11,
   "metadata": {},
   "outputs": [
    {
     "name": "stdout",
     "output_type": "stream",
     "text": [
      "{'PT': '7b2138a6-df61-11e7-baf1-c82a144c0a85', 'PMDB': '7b210cfa-df61-11e7-9864-c82a144c0a85', 'DEM': '7b20ed7e-df61-11e7-bb65-c82a144c0a85'}\n"
     ]
    }
   ],
   "source": [
    "filename = 'organizations.csv'\n",
    "file_path = '{:}{:}'.format(BASE_PATH, filename)\n",
    "df_parties = pd.read_csv(file_path, sep= ';', encoding= 'utf-8', index_col=None)\n",
    "df_parties.set_index('sigla', inplace=True)\n",
    "\n",
    "\n",
    "parties_d = df_parties['resource_uri'].to_dict()                        \n",
    "print({k:parties_d[k]\n",
    "    for k in ['PT', 'PMDB', 'DEM']})"
   ]
  },
  {
   "cell_type": "markdown",
   "metadata": {},
   "source": [
    "## 3. Reads scrapped json"
   ]
  },
  {
   "cell_type": "code",
   "execution_count": 12,
   "metadata": {},
   "outputs": [],
   "source": [
    "filename = 'senator_with_memberships-{:}.json'.format(FILE_SUFFIX) \n",
    "file_path = '{:}{:}'.format(JSON_PATH, filename)\n",
    "with open(file_path, mode='r') as f:\n",
    "    senatorsstr = f.read()\n",
    "f.close()\n",
    "\n",
    "senators_with_memberships = json.loads(senatorsstr)"
   ]
  },
  {
   "cell_type": "markdown",
   "metadata": {},
   "source": [
    "## 4. Agents"
   ]
  },
  {
   "cell_type": "code",
   "execution_count": 13,
   "metadata": {},
   "outputs": [
    {
     "data": {
      "text/html": [
       "<div>\n",
       "<style scoped>\n",
       "    .dataframe tbody tr th:only-of-type {\n",
       "        vertical-align: middle;\n",
       "    }\n",
       "\n",
       "    .dataframe tbody tr th {\n",
       "        vertical-align: top;\n",
       "    }\n",
       "\n",
       "    .dataframe thead th {\n",
       "        text-align: right;\n",
       "    }\n",
       "</style>\n",
       "<table border=\"1\" class=\"dataframe\">\n",
       "  <thead>\n",
       "    <tr style=\"text-align: right;\">\n",
       "      <th></th>\n",
       "      <th>sen:CodigoParlamentar</th>\n",
       "      <th>sen:NomeCompletoParlamentar</th>\n",
       "      <th>sen:NomeParlamentar</th>\n",
       "      <th>slp:resource_uri</th>\n",
       "    </tr>\n",
       "  </thead>\n",
       "  <tbody>\n",
       "    <tr>\n",
       "      <th>0</th>\n",
       "      <td>715</td>\n",
       "      <td>Armando de Queiroz Monteiro Neto</td>\n",
       "      <td>Armando Monteiro</td>\n",
       "      <td>21472871-dd36-4d0c-874e-d442e3f6eb6a</td>\n",
       "    </tr>\n",
       "    <tr>\n",
       "      <th>1</th>\n",
       "      <td>846</td>\n",
       "      <td>Aloysio Nunes Ferreira Filho</td>\n",
       "      <td>Aloysio Nunes Ferreira</td>\n",
       "      <td>6b45dd59-d18c-4cf7-85f4-385b8b7400d6</td>\n",
       "    </tr>\n",
       "    <tr>\n",
       "      <th>2</th>\n",
       "      <td>3</td>\n",
       "      <td>Antonio Carlos Valadares</td>\n",
       "      <td>Antonio Carlos Valadares</td>\n",
       "      <td>1065859f-e76a-4bad-9c44-e404e24adc54</td>\n",
       "    </tr>\n",
       "    <tr>\n",
       "      <th>3</th>\n",
       "      <td>4988</td>\n",
       "      <td>Ana Amélia de Lemos</td>\n",
       "      <td>Ana Amélia</td>\n",
       "      <td>14a3ea0b-56ba-441d-a6f1-f69a29bf3ec3</td>\n",
       "    </tr>\n",
       "    <tr>\n",
       "      <th>4</th>\n",
       "      <td>5164</td>\n",
       "      <td>Ataídes de Oliveira</td>\n",
       "      <td>Ataídes Oliveira</td>\n",
       "      <td>d2fd7a9e-eb01-4c1d-a326-8fbbbf5a9164</td>\n",
       "    </tr>\n",
       "  </tbody>\n",
       "</table>\n",
       "</div>"
      ],
      "text/plain": [
       "  sen:CodigoParlamentar       sen:NomeCompletoParlamentar  \\\n",
       "0                   715  Armando de Queiroz Monteiro Neto   \n",
       "1                   846      Aloysio Nunes Ferreira Filho   \n",
       "2                     3          Antonio Carlos Valadares   \n",
       "3                  4988               Ana Amélia de Lemos   \n",
       "4                  5164               Ataídes de Oliveira   \n",
       "\n",
       "        sen:NomeParlamentar                      slp:resource_uri  \n",
       "0          Armando Monteiro  21472871-dd36-4d0c-874e-d442e3f6eb6a  \n",
       "1    Aloysio Nunes Ferreira  6b45dd59-d18c-4cf7-85f4-385b8b7400d6  \n",
       "2  Antonio Carlos Valadares  1065859f-e76a-4bad-9c44-e404e24adc54  \n",
       "3                Ana Amélia  14a3ea0b-56ba-441d-a6f1-f69a29bf3ec3  \n",
       "4          Ataídes Oliveira  d2fd7a9e-eb01-4c1d-a326-8fbbbf5a9164  "
      ]
     },
     "execution_count": 13,
     "metadata": {},
     "output_type": "execute_result"
    }
   ],
   "source": [
    "mapping = {'skos:prefLabel': 'sen:CodigoParlamentar',\n",
    "  'foaf:name':'sen:NomeCompletoParlamentar',\n",
    "  'rdfs:label':'sen:NomeParlamentar',\n",
    "  'resource_uri':'slp:resource_uri'           \n",
    "}\n",
    "\n",
    "agents = [] \n",
    "for swm_d in senators_with_memberships:\n",
    "    agent_d = {mapping[k]: swm_d.get(k, None) for k in mapping}\n",
    "    if agent_d:\n",
    "        agents.append(agent_d)\n",
    "\n",
    "filename = 'senators-{:}.csv'.format(PROV) \n",
    "file_path = '{:}{:}{:}'.format(AGENTS_PATH, SUB_DIR, filename)\n",
    "df = pd.DataFrame.from_dict(agents)    \n",
    "df.to_csv(file_path, sep=';', encoding='utf-8', index=None)\n",
    "df.head()"
   ]
  },
  {
   "cell_type": "markdown",
   "metadata": {},
   "source": [
    " ## 5. Senate Org\n",
    " \n",
    " ### 5.1 Membership Senator\n",
    " #### 5.1.1 Process"
   ]
  },
  {
   "cell_type": "code",
   "execution_count": 18,
   "metadata": {},
   "outputs": [
    {
     "data": {
      "text/html": [
       "<div>\n",
       "<style scoped>\n",
       "    .dataframe tbody tr th:only-of-type {\n",
       "        vertical-align: middle;\n",
       "    }\n",
       "\n",
       "    .dataframe tbody tr th {\n",
       "        vertical-align: top;\n",
       "    }\n",
       "\n",
       "    .dataframe thead th {\n",
       "        text-align: right;\n",
       "    }\n",
       "</style>\n",
       "<table border=\"1\" class=\"dataframe\">\n",
       "  <thead>\n",
       "    <tr style=\"text-align: right;\">\n",
       "      <th></th>\n",
       "      <th>org:member</th>\n",
       "      <th>org:role</th>\n",
       "      <th>sen:CodigoMandato</th>\n",
       "      <th>sen:UfParlamentar</th>\n",
       "      <th>sen:finishDate</th>\n",
       "      <th>sen:startDate</th>\n",
       "      <th>slp:resource_uri</th>\n",
       "    </tr>\n",
       "  </thead>\n",
       "  <tbody>\n",
       "    <tr>\n",
       "      <th>0</th>\n",
       "      <td>21472871-dd36-4d0c-874e-d442e3f6eb6a</td>\n",
       "      <td>d57a29ff-c69a-4b32-b98a-3dd8f204c0a3</td>\n",
       "      <td>443</td>\n",
       "      <td>PE</td>\n",
       "      <td>None</td>\n",
       "      <td>2016-05-09</td>\n",
       "      <td>e9932b05-852a-446e-a4ce-51ab18351d30</td>\n",
       "    </tr>\n",
       "    <tr>\n",
       "      <th>1</th>\n",
       "      <td>21472871-dd36-4d0c-874e-d442e3f6eb6a</td>\n",
       "      <td>d57a29ff-c69a-4b32-b98a-3dd8f204c0a3</td>\n",
       "      <td>443</td>\n",
       "      <td>PE</td>\n",
       "      <td>2015-01-01</td>\n",
       "      <td>2014-11-15</td>\n",
       "      <td>0ab6250c-1305-411e-ad98-a1c2abba98f8</td>\n",
       "    </tr>\n",
       "    <tr>\n",
       "      <th>2</th>\n",
       "      <td>21472871-dd36-4d0c-874e-d442e3f6eb6a</td>\n",
       "      <td>d57a29ff-c69a-4b32-b98a-3dd8f204c0a3</td>\n",
       "      <td>443</td>\n",
       "      <td>PE</td>\n",
       "      <td>2014-07-16</td>\n",
       "      <td>2011-02-01</td>\n",
       "      <td>b1e007b9-6fe2-4440-abab-56526952585d</td>\n",
       "    </tr>\n",
       "    <tr>\n",
       "      <th>3</th>\n",
       "      <td>6b45dd59-d18c-4cf7-85f4-385b8b7400d6</td>\n",
       "      <td>d57a29ff-c69a-4b32-b98a-3dd8f204c0a3</td>\n",
       "      <td>485</td>\n",
       "      <td>SP</td>\n",
       "      <td>2017-03-06</td>\n",
       "      <td>2011-02-01</td>\n",
       "      <td>fcb59e3d-054d-49b6-a0e8-fe51b6949777</td>\n",
       "    </tr>\n",
       "    <tr>\n",
       "      <th>4</th>\n",
       "      <td>1065859f-e76a-4bad-9c44-e404e24adc54</td>\n",
       "      <td>d57a29ff-c69a-4b32-b98a-3dd8f204c0a3</td>\n",
       "      <td>474</td>\n",
       "      <td>SE</td>\n",
       "      <td>None</td>\n",
       "      <td>2018-03-23</td>\n",
       "      <td>8018cc6a-d48b-4d0e-a1e5-24c8c4d467f2</td>\n",
       "    </tr>\n",
       "  </tbody>\n",
       "</table>\n",
       "</div>"
      ],
      "text/plain": [
       "                             org:member                              org:role  \\\n",
       "0  21472871-dd36-4d0c-874e-d442e3f6eb6a  d57a29ff-c69a-4b32-b98a-3dd8f204c0a3   \n",
       "1  21472871-dd36-4d0c-874e-d442e3f6eb6a  d57a29ff-c69a-4b32-b98a-3dd8f204c0a3   \n",
       "2  21472871-dd36-4d0c-874e-d442e3f6eb6a  d57a29ff-c69a-4b32-b98a-3dd8f204c0a3   \n",
       "3  6b45dd59-d18c-4cf7-85f4-385b8b7400d6  d57a29ff-c69a-4b32-b98a-3dd8f204c0a3   \n",
       "4  1065859f-e76a-4bad-9c44-e404e24adc54  d57a29ff-c69a-4b32-b98a-3dd8f204c0a3   \n",
       "\n",
       "  sen:CodigoMandato sen:UfParlamentar sen:finishDate sen:startDate  \\\n",
       "0               443                PE           None    2016-05-09   \n",
       "1               443                PE     2015-01-01    2014-11-15   \n",
       "2               443                PE     2014-07-16    2011-02-01   \n",
       "3               485                SP     2017-03-06    2011-02-01   \n",
       "4               474                SE           None    2018-03-23   \n",
       "\n",
       "                       slp:resource_uri  \n",
       "0  e9932b05-852a-446e-a4ce-51ab18351d30  \n",
       "1  0ab6250c-1305-411e-ad98-a1c2abba98f8  \n",
       "2  b1e007b9-6fe2-4440-abab-56526952585d  \n",
       "3  fcb59e3d-054d-49b6-a0e8-fe51b6949777  \n",
       "4  8018cc6a-d48b-4d0e-a1e5-24c8c4d467f2  "
      ]
     },
     "execution_count": 18,
     "metadata": {},
     "output_type": "execute_result"
    }
   ],
   "source": [
    "mapping = {\n",
    "    'code': 'sen:CodigoMandato',\n",
    "    'area': 'sen:UfParlamentar',\n",
    "    'startDate': 'sen:startDate', \n",
    "    'finishDate': 'sen:finishDate',\n",
    "    'resource_uri':'slp:resource_uri'\n",
    "}\n",
    "\n",
    "memberships = [] \n",
    "for swm_d in senators_with_memberships:\n",
    "    member_uri = swm_d['resource_uri'] \n",
    "    terms = swm_d['terms']\n",
    "    if terms:\n",
    "        for term_d in terms:\n",
    "            memberships_d = {mapping[k]: term_d.get(k, None) for k in mapping}\n",
    "            if memberships_d:\n",
    "                memberships_d['org:member'] = member_uri\n",
    "                memberships_d['org:role'] = SENATOR_URI\n",
    "                memberships.append(memberships_d)\n",
    "\n",
    "\n",
    "\n",
    "df = pd.DataFrame.from_dict(memberships)    \n",
    "df.head()            "
   ]
  },
  {
   "cell_type": "markdown",
   "metadata": {},
   "source": [
    " #### 5.1.2 Save"
   ]
  },
  {
   "cell_type": "code",
   "execution_count": 19,
   "metadata": {
    "collapsed": true
   },
   "outputs": [],
   "source": [
    "filename = 'memberships_with_senate-{:}.csv'.format(PROV, FILE_SUFFIX) \n",
    "file_path = '{:}{:}{:}'.format(MEMBERSHIPS_PATH, SUB_DIR, filename)\n",
    "df.to_csv(file_path, sep=';', encoding='utf-8', index=None)"
   ]
  },
  {
   "cell_type": "markdown",
   "metadata": {},
   "source": [
    "### 5.3 Posts\n",
    "\n",
    "#### 5.3.1 Posts Process"
   ]
  },
  {
   "cell_type": "code",
   "execution_count": 20,
   "metadata": {},
   "outputs": [
    {
     "data": {
      "text/html": [
       "<div>\n",
       "<style scoped>\n",
       "    .dataframe tbody tr th:only-of-type {\n",
       "        vertical-align: middle;\n",
       "    }\n",
       "\n",
       "    .dataframe tbody tr th {\n",
       "        vertical-align: top;\n",
       "    }\n",
       "\n",
       "    .dataframe thead th {\n",
       "        text-align: right;\n",
       "    }\n",
       "</style>\n",
       "<table border=\"1\" class=\"dataframe\">\n",
       "  <thead>\n",
       "    <tr style=\"text-align: right;\">\n",
       "      <th></th>\n",
       "      <th>org:member</th>\n",
       "      <th>org:role</th>\n",
       "      <th>sen:CodigoMandato</th>\n",
       "      <th>sen:UfParlamentar</th>\n",
       "      <th>sen:finishDate</th>\n",
       "      <th>sen:startDate</th>\n",
       "      <th>org:role</th>\n",
       "      <th>resource_uri</th>\n",
       "      <th>org:postIn</th>\n",
       "    </tr>\n",
       "  </thead>\n",
       "  <tbody>\n",
       "    <tr>\n",
       "      <th>0</th>\n",
       "      <td>21472871-dd36-4d0c-874e-d442e3f6eb6a</td>\n",
       "      <td>d57a29ff-c69a-4b32-b98a-3dd8f204c0a3</td>\n",
       "      <td>443</td>\n",
       "      <td>PE</td>\n",
       "      <td>None</td>\n",
       "      <td>2016-05-09</td>\n",
       "      <td>e9932b05-852a-446e-a4ce-51ab18351d30</td>\n",
       "      <td>7f91b54d-2914-4870-af1e-20bb29d863c3</td>\n",
       "      <td>81311052-e5b6-46fe-87ba-83865fa0ffb0</td>\n",
       "    </tr>\n",
       "    <tr>\n",
       "      <th>1</th>\n",
       "      <td>21472871-dd36-4d0c-874e-d442e3f6eb6a</td>\n",
       "      <td>d57a29ff-c69a-4b32-b98a-3dd8f204c0a3</td>\n",
       "      <td>443</td>\n",
       "      <td>PE</td>\n",
       "      <td>2015-01-01</td>\n",
       "      <td>2014-11-15</td>\n",
       "      <td>0ab6250c-1305-411e-ad98-a1c2abba98f8</td>\n",
       "      <td>42f5f3ad-a1ad-4062-a5cc-457fb5041c8b</td>\n",
       "      <td>81311052-e5b6-46fe-87ba-83865fa0ffb0</td>\n",
       "    </tr>\n",
       "    <tr>\n",
       "      <th>2</th>\n",
       "      <td>21472871-dd36-4d0c-874e-d442e3f6eb6a</td>\n",
       "      <td>d57a29ff-c69a-4b32-b98a-3dd8f204c0a3</td>\n",
       "      <td>443</td>\n",
       "      <td>PE</td>\n",
       "      <td>2014-07-16</td>\n",
       "      <td>2011-02-01</td>\n",
       "      <td>b1e007b9-6fe2-4440-abab-56526952585d</td>\n",
       "      <td>d3d64618-3031-46b1-b483-f5fc08b22940</td>\n",
       "      <td>81311052-e5b6-46fe-87ba-83865fa0ffb0</td>\n",
       "    </tr>\n",
       "    <tr>\n",
       "      <th>3</th>\n",
       "      <td>6b45dd59-d18c-4cf7-85f4-385b8b7400d6</td>\n",
       "      <td>d57a29ff-c69a-4b32-b98a-3dd8f204c0a3</td>\n",
       "      <td>485</td>\n",
       "      <td>SP</td>\n",
       "      <td>2017-03-06</td>\n",
       "      <td>2011-02-01</td>\n",
       "      <td>fcb59e3d-054d-49b6-a0e8-fe51b6949777</td>\n",
       "      <td>a0eed1ed-669a-4de1-80e4-3c7f075a6b02</td>\n",
       "      <td>81311052-e5b6-46fe-87ba-83865fa0ffb0</td>\n",
       "    </tr>\n",
       "    <tr>\n",
       "      <th>4</th>\n",
       "      <td>1065859f-e76a-4bad-9c44-e404e24adc54</td>\n",
       "      <td>d57a29ff-c69a-4b32-b98a-3dd8f204c0a3</td>\n",
       "      <td>474</td>\n",
       "      <td>SE</td>\n",
       "      <td>None</td>\n",
       "      <td>2018-03-23</td>\n",
       "      <td>8018cc6a-d48b-4d0e-a1e5-24c8c4d467f2</td>\n",
       "      <td>13922ec1-f097-4b98-b5fd-03af5b25858c</td>\n",
       "      <td>81311052-e5b6-46fe-87ba-83865fa0ffb0</td>\n",
       "    </tr>\n",
       "  </tbody>\n",
       "</table>\n",
       "</div>"
      ],
      "text/plain": [
       "                             org:member                              org:role  \\\n",
       "0  21472871-dd36-4d0c-874e-d442e3f6eb6a  d57a29ff-c69a-4b32-b98a-3dd8f204c0a3   \n",
       "1  21472871-dd36-4d0c-874e-d442e3f6eb6a  d57a29ff-c69a-4b32-b98a-3dd8f204c0a3   \n",
       "2  21472871-dd36-4d0c-874e-d442e3f6eb6a  d57a29ff-c69a-4b32-b98a-3dd8f204c0a3   \n",
       "3  6b45dd59-d18c-4cf7-85f4-385b8b7400d6  d57a29ff-c69a-4b32-b98a-3dd8f204c0a3   \n",
       "4  1065859f-e76a-4bad-9c44-e404e24adc54  d57a29ff-c69a-4b32-b98a-3dd8f204c0a3   \n",
       "\n",
       "  sen:CodigoMandato sen:UfParlamentar sen:finishDate sen:startDate  \\\n",
       "0               443                PE           None    2016-05-09   \n",
       "1               443                PE     2015-01-01    2014-11-15   \n",
       "2               443                PE     2014-07-16    2011-02-01   \n",
       "3               485                SP     2017-03-06    2011-02-01   \n",
       "4               474                SE           None    2018-03-23   \n",
       "\n",
       "                               org:role                          resource_uri  \\\n",
       "0  e9932b05-852a-446e-a4ce-51ab18351d30  7f91b54d-2914-4870-af1e-20bb29d863c3   \n",
       "1  0ab6250c-1305-411e-ad98-a1c2abba98f8  42f5f3ad-a1ad-4062-a5cc-457fb5041c8b   \n",
       "2  b1e007b9-6fe2-4440-abab-56526952585d  d3d64618-3031-46b1-b483-f5fc08b22940   \n",
       "3  fcb59e3d-054d-49b6-a0e8-fe51b6949777  a0eed1ed-669a-4de1-80e4-3c7f075a6b02   \n",
       "4  8018cc6a-d48b-4d0e-a1e5-24c8c4d467f2  13922ec1-f097-4b98-b5fd-03af5b25858c   \n",
       "\n",
       "                             org:postIn  \n",
       "0  81311052-e5b6-46fe-87ba-83865fa0ffb0  \n",
       "1  81311052-e5b6-46fe-87ba-83865fa0ffb0  \n",
       "2  81311052-e5b6-46fe-87ba-83865fa0ffb0  \n",
       "3  81311052-e5b6-46fe-87ba-83865fa0ffb0  \n",
       "4  81311052-e5b6-46fe-87ba-83865fa0ffb0  "
      ]
     },
     "execution_count": 20,
     "metadata": {},
     "output_type": "execute_result"
    }
   ],
   "source": [
    "df = df.rename({'slp:resource_uri':'org:role'}, axis='columns')\n",
    "df['resource_uri'] = [str(uuid4()) for _ in range(df.shape[0])]\n",
    "df['org:postIn'] = [SENATE_URI]*df.shape[0]\n",
    "df.drop('rdfs:label', axis=1, inplace=True)\n",
    "df.head()"
   ]
  },
  {
   "cell_type": "code",
   "execution_count": 21,
   "metadata": {},
   "outputs": [
    {
     "data": {
      "text/plain": [
       "(179, 9)"
      ]
     },
     "execution_count": 21,
     "metadata": {},
     "output_type": "execute_result"
    }
   ],
   "source": [
    "df.shape"
   ]
  },
  {
   "cell_type": "markdown",
   "metadata": {},
   "source": [
    "#### 5.3.3 Posts save"
   ]
  },
  {
   "cell_type": "code",
   "execution_count": 14,
   "metadata": {
    "collapsed": true
   },
   "outputs": [],
   "source": [
    "filename = 'senator_posts-{:}.csv'.format(PROV, FILE_SUFFIX) \n",
    "file_path = '{:}{:}{:}'.format(POSTS_PATH, SUB_DIR, filename)\n",
    "df.to_csv(file_path, sep=';', encoding='utf-8', index=None)"
   ]
  },
  {
   "cell_type": "markdown",
   "metadata": {
    "collapsed": true
   },
   "source": [
    " ## 6. Parties Org\n",
    "\n",
    " ### 6.1 Membership\n",
    " \n",
    " #### 6.1.1 Process"
   ]
  },
  {
   "cell_type": "code",
   "execution_count": 10,
   "metadata": {},
   "outputs": [
    {
     "data": {
      "text/html": [
       "<div>\n",
       "<style scoped>\n",
       "    .dataframe tbody tr th:only-of-type {\n",
       "        vertical-align: middle;\n",
       "    }\n",
       "\n",
       "    .dataframe tbody tr th {\n",
       "        vertical-align: top;\n",
       "    }\n",
       "\n",
       "    .dataframe thead th {\n",
       "        text-align: right;\n",
       "    }\n",
       "</style>\n",
       "<table border=\"1\" class=\"dataframe\">\n",
       "  <thead>\n",
       "    <tr style=\"text-align: right;\">\n",
       "      <th></th>\n",
       "      <th>org:member</th>\n",
       "      <th>org:role</th>\n",
       "      <th>sen:DataDesfiliacao</th>\n",
       "      <th>sen:DataFiliacao</th>\n",
       "      <th>sen:SiglaPartido</th>\n",
       "      <th>slp:resource_uri</th>\n",
       "    </tr>\n",
       "  </thead>\n",
       "  <tbody>\n",
       "    <tr>\n",
       "      <th>0</th>\n",
       "      <td>85e8b745-786b-4782-a8a1-e3b3164a3f22</td>\n",
       "      <td>6a688541-b16a-45ca-8aa9-fa700373279f</td>\n",
       "      <td>None</td>\n",
       "      <td>2015-02-01</td>\n",
       "      <td>PDT</td>\n",
       "      <td>0577ae6b-9fa4-4ff0-ac19-9dd5cd3598d1</td>\n",
       "    </tr>\n",
       "    <tr>\n",
       "      <th>1</th>\n",
       "      <td>85e8b745-786b-4782-a8a1-e3b3164a3f22</td>\n",
       "      <td>6a688541-b16a-45ca-8aa9-fa700373279f</td>\n",
       "      <td>None</td>\n",
       "      <td>2004-02-14</td>\n",
       "      <td>PP</td>\n",
       "      <td>b2ec603a-26b8-4e59-8a59-624d2f0973ac</td>\n",
       "    </tr>\n",
       "    <tr>\n",
       "      <th>2</th>\n",
       "      <td>85e8b745-786b-4782-a8a1-e3b3164a3f22</td>\n",
       "      <td>6a688541-b16a-45ca-8aa9-fa700373279f</td>\n",
       "      <td>2004-02-13</td>\n",
       "      <td>1999-02-01</td>\n",
       "      <td>PFL</td>\n",
       "      <td>3cf1400f-9fe7-4552-99ac-d0a4a52a1510</td>\n",
       "    </tr>\n",
       "    <tr>\n",
       "      <th>3</th>\n",
       "      <td>85e8b745-786b-4782-a8a1-e3b3164a3f22</td>\n",
       "      <td>6a688541-b16a-45ca-8aa9-fa700373279f</td>\n",
       "      <td>None</td>\n",
       "      <td>2011-02-03</td>\n",
       "      <td>PR</td>\n",
       "      <td>da9f5ea7-2636-4240-af94-94e0df597ae9</td>\n",
       "    </tr>\n",
       "    <tr>\n",
       "      <th>4</th>\n",
       "      <td>85e8b745-786b-4782-a8a1-e3b3164a3f22</td>\n",
       "      <td>6a688541-b16a-45ca-8aa9-fa700373279f</td>\n",
       "      <td>None</td>\n",
       "      <td>2011-02-03</td>\n",
       "      <td>DEM</td>\n",
       "      <td>89a85f62-3dce-499c-a72a-0917f5bf5240</td>\n",
       "    </tr>\n",
       "    <tr>\n",
       "      <th>5</th>\n",
       "      <td>85e8b745-786b-4782-a8a1-e3b3164a3f22</td>\n",
       "      <td>6a688541-b16a-45ca-8aa9-fa700373279f</td>\n",
       "      <td>None</td>\n",
       "      <td>2015-02-01</td>\n",
       "      <td>PDT</td>\n",
       "      <td>5d602564-ea0f-4b99-86fe-7ed822778f85</td>\n",
       "    </tr>\n",
       "    <tr>\n",
       "      <th>6</th>\n",
       "      <td>85e8b745-786b-4782-a8a1-e3b3164a3f22</td>\n",
       "      <td>6a688541-b16a-45ca-8aa9-fa700373279f</td>\n",
       "      <td>None</td>\n",
       "      <td>1999-02-01</td>\n",
       "      <td>PSDB</td>\n",
       "      <td>70e5af79-d369-4e74-b4ad-4decab26ef97</td>\n",
       "    </tr>\n",
       "    <tr>\n",
       "      <th>7</th>\n",
       "      <td>85e8b745-786b-4782-a8a1-e3b3164a3f22</td>\n",
       "      <td>6a688541-b16a-45ca-8aa9-fa700373279f</td>\n",
       "      <td>None</td>\n",
       "      <td>2015-02-01</td>\n",
       "      <td>PV</td>\n",
       "      <td>27187447-24a0-4e48-900d-5207e5ce37f5</td>\n",
       "    </tr>\n",
       "    <tr>\n",
       "      <th>8</th>\n",
       "      <td>85e8b745-786b-4782-a8a1-e3b3164a3f22</td>\n",
       "      <td>6a688541-b16a-45ca-8aa9-fa700373279f</td>\n",
       "      <td>None</td>\n",
       "      <td>2015-02-01</td>\n",
       "      <td>PMDB</td>\n",
       "      <td>3bd6d232-08e8-4654-acdb-a46a77de65ba</td>\n",
       "    </tr>\n",
       "    <tr>\n",
       "      <th>9</th>\n",
       "      <td>85e8b745-786b-4782-a8a1-e3b3164a3f22</td>\n",
       "      <td>6a688541-b16a-45ca-8aa9-fa700373279f</td>\n",
       "      <td>None</td>\n",
       "      <td>2011-01-27</td>\n",
       "      <td>PR</td>\n",
       "      <td>5401befb-466d-4949-890c-5969d74233e2</td>\n",
       "    </tr>\n",
       "  </tbody>\n",
       "</table>\n",
       "</div>"
      ],
      "text/plain": [
       "                             org:member                              org:role  \\\n",
       "0  85e8b745-786b-4782-a8a1-e3b3164a3f22  6a688541-b16a-45ca-8aa9-fa700373279f   \n",
       "1  85e8b745-786b-4782-a8a1-e3b3164a3f22  6a688541-b16a-45ca-8aa9-fa700373279f   \n",
       "2  85e8b745-786b-4782-a8a1-e3b3164a3f22  6a688541-b16a-45ca-8aa9-fa700373279f   \n",
       "3  85e8b745-786b-4782-a8a1-e3b3164a3f22  6a688541-b16a-45ca-8aa9-fa700373279f   \n",
       "4  85e8b745-786b-4782-a8a1-e3b3164a3f22  6a688541-b16a-45ca-8aa9-fa700373279f   \n",
       "5  85e8b745-786b-4782-a8a1-e3b3164a3f22  6a688541-b16a-45ca-8aa9-fa700373279f   \n",
       "6  85e8b745-786b-4782-a8a1-e3b3164a3f22  6a688541-b16a-45ca-8aa9-fa700373279f   \n",
       "7  85e8b745-786b-4782-a8a1-e3b3164a3f22  6a688541-b16a-45ca-8aa9-fa700373279f   \n",
       "8  85e8b745-786b-4782-a8a1-e3b3164a3f22  6a688541-b16a-45ca-8aa9-fa700373279f   \n",
       "9  85e8b745-786b-4782-a8a1-e3b3164a3f22  6a688541-b16a-45ca-8aa9-fa700373279f   \n",
       "\n",
       "  sen:DataDesfiliacao sen:DataFiliacao sen:SiglaPartido  \\\n",
       "0                None       2015-02-01              PDT   \n",
       "1                None       2004-02-14               PP   \n",
       "2          2004-02-13       1999-02-01              PFL   \n",
       "3                None       2011-02-03               PR   \n",
       "4                None       2011-02-03              DEM   \n",
       "5                None       2015-02-01              PDT   \n",
       "6                None       1999-02-01             PSDB   \n",
       "7                None       2015-02-01               PV   \n",
       "8                None       2015-02-01             PMDB   \n",
       "9                None       2011-01-27               PR   \n",
       "\n",
       "                       slp:resource_uri  \n",
       "0  0577ae6b-9fa4-4ff0-ac19-9dd5cd3598d1  \n",
       "1  b2ec603a-26b8-4e59-8a59-624d2f0973ac  \n",
       "2  3cf1400f-9fe7-4552-99ac-d0a4a52a1510  \n",
       "3  da9f5ea7-2636-4240-af94-94e0df597ae9  \n",
       "4  89a85f62-3dce-499c-a72a-0917f5bf5240  \n",
       "5  5d602564-ea0f-4b99-86fe-7ed822778f85  \n",
       "6  70e5af79-d369-4e74-b4ad-4decab26ef97  \n",
       "7  27187447-24a0-4e48-900d-5207e5ce37f5  \n",
       "8  3bd6d232-08e8-4654-acdb-a46a77de65ba  \n",
       "9  5401befb-466d-4949-890c-5969d74233e2  "
      ]
     },
     "execution_count": 10,
     "metadata": {},
     "output_type": "execute_result"
    }
   ],
   "source": [
    "mapping = {\n",
    "    'sigla': 'sen:SiglaPartido',\n",
    "    'startDate': 'sen:DataFiliacao' ,\n",
    "    'finishDate': 'sen:DataDesfiliacao',\n",
    "    'resource_uri': 'slp:resource_uri'\n",
    "}\n",
    "\n",
    "memberships = [] \n",
    "for swm_d in senators_with_memberships:\n",
    "    affiliations = swm_d['affiliations']\n",
    "    if affiliations:\n",
    "        for affiliation_d in affiliations:\n",
    "            if affiliation_d['sigla'] in parties_d:\n",
    "                memberships_d = {mapping[k]: affiliation_d.get(k, None) for k in mapping}\n",
    "                if memberships_d:\n",
    "                    memberships_d['org:member'] = member_uri\n",
    "                    memberships_d['org:role'] = AFFILIATE_URI\n",
    "                    memberships.append(memberships_d)\n",
    "\n",
    "\n",
    "\n",
    "                    \n",
    "df = pd.DataFrame.from_dict(memberships)    \n",
    "parties = df['sen:SiglaPartido'].values\n",
    "df.head(10)            "
   ]
  },
  {
   "cell_type": "code",
   "execution_count": 15,
   "metadata": {},
   "outputs": [
    {
     "name": "stdout",
     "output_type": "stream",
     "text": [
      "{'skos:prefLabel': '5573', 'rdfs:label': 'Abel Rebouças', 'foaf:name': 'Abel Rebouças São José', 'agent_resource_uri': '828a0e78-b457-47de-8112-a7cce8d24563', 'terms': [{'legislatura': '55', 'startDate': '2015-02-01', 'finishDate': '2019-01-31', 'skos:prefLabel': '492', 'natureza': 'BA', 'membership_resource_uri': '61e28c9c-c93b-40fc-a73d-3a963632df24', 'role_resource_uri': 'd69fcc38-21a6-41ee-8c0f-90be24aff805'}, {'legislatura': '56', 'startDate': '2019-02-01', 'finishDate': '2023-01-31', 'skos:prefLabel': '492', 'natureza': 'BA', 'membership_resource_uri': '669716c0-cf09-4d77-896b-8497c3943b34', 'role_resource_uri': 'd69fcc38-21a6-41ee-8c0f-90be24aff805'}], 'affiliations': [{'sigla': 'PDT', 'startDate': '2015-02-01', 'resource_uri': '0577ae6b-9fa4-4ff0-ac19-9dd5cd3598d1', 'role_resource_uri': 'ebf7f8f0-1b0a-4662-9ed8-c9bb19936ec0'}]}\n"
     ]
    }
   ],
   "source": [
    "print(senators_with_memberships[0])"
   ]
  },
  {
   "cell_type": "markdown",
   "metadata": {},
   "source": [
    " #### 6.1.2 Save"
   ]
  },
  {
   "cell_type": "code",
   "execution_count": 25,
   "metadata": {
    "collapsed": true
   },
   "outputs": [],
   "source": [
    "filename = 'memberships_at_parties-{:}.csv'.format(PROV) \n",
    "file_path = '{:}{:}{:}'.format(MEMBERSHIPS_PATH, SUB_DIR, filename)\n",
    "df.to_csv(file_path, sep=';', encoding='utf-8', index=None)"
   ]
  },
  {
   "cell_type": "markdown",
   "metadata": {},
   "source": [
    "  ### 6.2 Roles at Parties\n",
    "  #### 6.2.1 Process"
   ]
  },
  {
   "cell_type": "code",
   "execution_count": 20,
   "metadata": {},
   "outputs": [
    {
     "data": {
      "text/html": [
       "<div>\n",
       "<style scoped>\n",
       "    .dataframe tbody tr th:only-of-type {\n",
       "        vertical-align: middle;\n",
       "    }\n",
       "\n",
       "    .dataframe tbody tr th {\n",
       "        vertical-align: top;\n",
       "    }\n",
       "\n",
       "    .dataframe thead th {\n",
       "        text-align: right;\n",
       "    }\n",
       "</style>\n",
       "<table border=\"1\" class=\"dataframe\">\n",
       "  <thead>\n",
       "    <tr style=\"text-align: right;\">\n",
       "      <th></th>\n",
       "      <th>slp:resource_uri</th>\n",
       "      <th>rdfs:label</th>\n",
       "    </tr>\n",
       "  </thead>\n",
       "  <tbody>\n",
       "    <tr>\n",
       "      <th>0</th>\n",
       "      <td>70f12084-b63a-4bca-b140-e60480ef3802</td>\n",
       "      <td>Affiliate</td>\n",
       "    </tr>\n",
       "    <tr>\n",
       "      <th>1</th>\n",
       "      <td>1706c489-db73-4b74-a410-5e441c1e1cdd</td>\n",
       "      <td>Affiliate</td>\n",
       "    </tr>\n",
       "    <tr>\n",
       "      <th>2</th>\n",
       "      <td>ea9a2925-a286-4b13-b719-a030418dd8c5</td>\n",
       "      <td>Affiliate</td>\n",
       "    </tr>\n",
       "    <tr>\n",
       "      <th>3</th>\n",
       "      <td>11dccd25-3d27-4e70-af1d-bb0907675b2c</td>\n",
       "      <td>Affiliate</td>\n",
       "    </tr>\n",
       "    <tr>\n",
       "      <th>4</th>\n",
       "      <td>a2d74722-5042-4795-b72e-c4d3bba42fc9</td>\n",
       "      <td>Affiliate</td>\n",
       "    </tr>\n",
       "  </tbody>\n",
       "</table>\n",
       "</div>"
      ],
      "text/plain": [
       "                       slp:resource_uri rdfs:label\n",
       "0  70f12084-b63a-4bca-b140-e60480ef3802  Affiliate\n",
       "1  1706c489-db73-4b74-a410-5e441c1e1cdd  Affiliate\n",
       "2  ea9a2925-a286-4b13-b719-a030418dd8c5  Affiliate\n",
       "3  11dccd25-3d27-4e70-af1d-bb0907675b2c  Affiliate\n",
       "4  a2d74722-5042-4795-b72e-c4d3bba42fc9  Affiliate"
      ]
     },
     "execution_count": 20,
     "metadata": {},
     "output_type": "execute_result"
    }
   ],
   "source": [
    "df = df['org:role'].to_frame()\n",
    "df = df.rename({'org:role':'slp:resource_uri'}, axis='columns')\n",
    "df['rdfs:label'] = 'Affiliate'\n",
    "df.head()"
   ]
  },
  {
   "cell_type": "markdown",
   "metadata": {},
   "source": [
    " #### 6.2.2 Save"
   ]
  },
  {
   "cell_type": "code",
   "execution_count": 21,
   "metadata": {
    "collapsed": true
   },
   "outputs": [],
   "source": [
    "filename = 'roles_affiliatiate-{:}.csv'.format(PROV) \n",
    "file_path = '{:}{:}{:}'.format(ROLES_PATH, SUB_DIR, filename)\n",
    "df.to_csv(file_path, sep=';', encoding='utf-8', index=None)"
   ]
  },
  {
   "cell_type": "markdown",
   "metadata": {},
   "source": [
    " ### 6.3 Posts at Parties\n",
    " #### 6.3.1 Process"
   ]
  },
  {
   "cell_type": "code",
   "execution_count": 22,
   "metadata": {},
   "outputs": [
    {
     "data": {
      "text/html": [
       "<div>\n",
       "<style scoped>\n",
       "    .dataframe tbody tr th:only-of-type {\n",
       "        vertical-align: middle;\n",
       "    }\n",
       "\n",
       "    .dataframe tbody tr th {\n",
       "        vertical-align: top;\n",
       "    }\n",
       "\n",
       "    .dataframe thead th {\n",
       "        text-align: right;\n",
       "    }\n",
       "</style>\n",
       "<table border=\"1\" class=\"dataframe\">\n",
       "  <thead>\n",
       "    <tr style=\"text-align: right;\">\n",
       "      <th></th>\n",
       "      <th>org:role</th>\n",
       "      <th>slp:resource_uri</th>\n",
       "    </tr>\n",
       "  </thead>\n",
       "  <tbody>\n",
       "    <tr>\n",
       "      <th>0</th>\n",
       "      <td>70f12084-b63a-4bca-b140-e60480ef3802</td>\n",
       "      <td>7b210070-df61-11e7-97e9-c82a144c0a85</td>\n",
       "    </tr>\n",
       "    <tr>\n",
       "      <th>1</th>\n",
       "      <td>1706c489-db73-4b74-a410-5e441c1e1cdd</td>\n",
       "      <td>7b21152e-df61-11e7-bdcf-c82a144c0a85</td>\n",
       "    </tr>\n",
       "    <tr>\n",
       "      <th>2</th>\n",
       "      <td>ea9a2925-a286-4b13-b719-a030418dd8c5</td>\n",
       "      <td>7b21046c-df61-11e7-8094-c82a144c0a85</td>\n",
       "    </tr>\n",
       "    <tr>\n",
       "      <th>3</th>\n",
       "      <td>11dccd25-3d27-4e70-af1d-bb0907675b2c</td>\n",
       "      <td>7b211a38-df61-11e7-b1b8-c82a144c0a85</td>\n",
       "    </tr>\n",
       "    <tr>\n",
       "      <th>4</th>\n",
       "      <td>a2d74722-5042-4795-b72e-c4d3bba42fc9</td>\n",
       "      <td>7b20ed7e-df61-11e7-bb65-c82a144c0a85</td>\n",
       "    </tr>\n",
       "  </tbody>\n",
       "</table>\n",
       "</div>"
      ],
      "text/plain": [
       "                               org:role                      slp:resource_uri\n",
       "0  70f12084-b63a-4bca-b140-e60480ef3802  7b210070-df61-11e7-97e9-c82a144c0a85\n",
       "1  1706c489-db73-4b74-a410-5e441c1e1cdd  7b21152e-df61-11e7-bdcf-c82a144c0a85\n",
       "2  ea9a2925-a286-4b13-b719-a030418dd8c5  7b21046c-df61-11e7-8094-c82a144c0a85\n",
       "3  11dccd25-3d27-4e70-af1d-bb0907675b2c  7b211a38-df61-11e7-b1b8-c82a144c0a85\n",
       "4  a2d74722-5042-4795-b72e-c4d3bba42fc9  7b20ed7e-df61-11e7-bb65-c82a144c0a85"
      ]
     },
     "execution_count": 22,
     "metadata": {},
     "output_type": "execute_result"
    }
   ],
   "source": [
    "df = df.rename({'slp:resource_uri':'org:role'}, axis='columns')\n",
    "df['slp:resource_uri'] = [parties_d.get(sigla, None) for sigla in parties]\n",
    "df.drop('rdfs:label', axis=1, inplace=True)\n",
    "df.head()"
   ]
  },
  {
   "cell_type": "markdown",
   "metadata": {},
   "source": [
    " #### 6.3.2 Save"
   ]
  },
  {
   "cell_type": "code",
   "execution_count": 23,
   "metadata": {
    "collapsed": true
   },
   "outputs": [],
   "source": [
    "filename = 'posts_at_parties-{:}.csv'.format(PROV) \n",
    "file_path = '{:}{:}{:}'.format(POSTS_PATH, SUB_DIR, filename)\n",
    "df.to_csv(file_path, sep=';', encoding='utf-8', index=None)"
   ]
  }
 ],
 "metadata": {
  "kernelspec": {
   "display_name": "Python 3",
   "language": "python",
   "name": "python3"
  },
  "language_info": {
   "codemirror_mode": {
    "name": "ipython",
    "version": 3
   },
   "file_extension": ".py",
   "mimetype": "text/x-python",
   "name": "python",
   "nbconvert_exporter": "python",
   "pygments_lexer": "ipython3",
   "version": "3.6.3"
  }
 },
 "nbformat": 4,
 "nbformat_minor": 2
}
