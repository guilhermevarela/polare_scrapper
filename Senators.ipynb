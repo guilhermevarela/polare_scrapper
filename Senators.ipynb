{
 "cells": [
  {
   "cell_type": "markdown",
   "metadata": {},
   "source": [
    "# Senators notebook\n",
    "\n",
    "Parses datasets/senado/senators_with_memberships-**termid**.json creating / updating the following polare entites:\n",
    "* Agents\n",
    "* Memberships (Senate, Parties)\n",
    "* Organizations (Senate)\n",
    "* Posts (Senate)\n",
    "* Roles (Afiliate, Senator)\n",
    "\n",
    "## 1. Imports and Constants Declaration"
   ]
  },
  {
   "cell_type": "code",
   "execution_count": 1,
   "metadata": {
    "collapsed": true
   },
   "outputs": [],
   "source": [
    "import json   # reads scrapped data\n",
    "import pandas as pd # helps with file management and visualization\n",
    "from uuid import uuid4 # creates new uuids for Posts\n",
    "\n",
    "termid = 55 # legislatura\n",
    "\n",
    "PROV = 'sen'\n",
    "FILE_SUFFIX = termid\n",
    "SUB_DIR = '{:}/'.format(termid)\n",
    "JSON_PATH =  'datasets/senado/'\n",
    "\n",
    "AGENTS_PATH = 'datasets/slp/agents/'\n",
    "MEMBERSHIPS_PATH = 'datasets/slp/memberships/'\n",
    "ORGANIZATIONS_PATH = 'datasets/slp/organizations/'\n",
    "ROLES_PATH = 'datasets/slp/roles/'\n",
    "POSTS_PATH = 'datasets/slp/posts/'\n",
    "\n",
    "\n",
    "SENADO_URI = '81311052-e5b6-46fe-87ba-83865fa0ffb0' \n"
   ]
  },
  {
   "cell_type": "markdown",
   "metadata": {},
   "source": [
    " ## 2. Getting the Parties"
   ]
  },
  {
   "cell_type": "code",
   "execution_count": 2,
   "metadata": {},
   "outputs": [
    {
     "name": "stdout",
     "output_type": "stream",
     "text": [
      "{'PT': '7b2138a6-df61-11e7-baf1-c82a144c0a85', 'PMDB': '7b210cfa-df61-11e7-9864-c82a144c0a85', 'DEM': '7b20ed7e-df61-11e7-bb65-c82a144c0a85'}\n"
     ]
    }
   ],
   "source": [
    "filename = 'parties.csv'\n",
    "file_path = '{:}{:}'.format(ORGANIZATIONS_PATH, filename)\n",
    "df_parties = pd.read_csv(file_path, sep= ';', encoding= 'utf-8', index_col=None)\n",
    "df_parties.set_index('sigla', inplace=True)\n",
    "\n",
    "\n",
    "parties_d = df_parties['slp:resource_uri'].to_dict()                        \n",
    "print({k:parties_d[k]\n",
    "    for k in ['PT', 'PMDB', 'DEM']})"
   ]
  },
  {
   "cell_type": "markdown",
   "metadata": {},
   "source": [
    "## 3. Reads scrapped json"
   ]
  },
  {
   "cell_type": "code",
   "execution_count": 3,
   "metadata": {
    "collapsed": true
   },
   "outputs": [],
   "source": [
    "filename = 'senator_with_memberships-{:}.json'.format(FILE_SUFFIX) \n",
    "file_path = '{:}{:}'.format(JSON_PATH, filename)\n",
    "with open(file_path, mode='r') as f:\n",
    "    senatorsstr = f.read()\n",
    "f.close()\n",
    "\n",
    "senators_with_memberships = json.loads(senatorsstr)"
   ]
  },
  {
   "cell_type": "markdown",
   "metadata": {},
   "source": [
    "## 4. Agents"
   ]
  },
  {
   "cell_type": "code",
   "execution_count": 4,
   "metadata": {},
   "outputs": [
    {
     "data": {
      "text/html": [
       "<div>\n",
       "<style scoped>\n",
       "    .dataframe tbody tr th:only-of-type {\n",
       "        vertical-align: middle;\n",
       "    }\n",
       "\n",
       "    .dataframe tbody tr th {\n",
       "        vertical-align: top;\n",
       "    }\n",
       "\n",
       "    .dataframe thead th {\n",
       "        text-align: right;\n",
       "    }\n",
       "</style>\n",
       "<table border=\"1\" class=\"dataframe\">\n",
       "  <thead>\n",
       "    <tr style=\"text-align: right;\">\n",
       "      <th></th>\n",
       "      <th>sen:CodigoParlamentar</th>\n",
       "      <th>sen:NomeCompletoParlamentar</th>\n",
       "      <th>sen:NomeParlamentar</th>\n",
       "      <th>slp:resource_uri</th>\n",
       "    </tr>\n",
       "  </thead>\n",
       "  <tbody>\n",
       "    <tr>\n",
       "      <th>0</th>\n",
       "      <td>5573</td>\n",
       "      <td>Abel Rebouças São José</td>\n",
       "      <td>Abel Rebouças</td>\n",
       "      <td>828a0e78-b457-47de-8112-a7cce8d24563</td>\n",
       "    </tr>\n",
       "    <tr>\n",
       "      <th>1</th>\n",
       "      <td>739</td>\n",
       "      <td>Ciro Nogueira Lima Filho</td>\n",
       "      <td>Ciro Nogueira</td>\n",
       "      <td>59888f36-89fc-40e9-adf7-e95bb4906eb2</td>\n",
       "    </tr>\n",
       "    <tr>\n",
       "      <th>2</th>\n",
       "      <td>5108</td>\n",
       "      <td>José Aparecido dos Santos</td>\n",
       "      <td>Cidinho Santos</td>\n",
       "      <td>94be5f0e-2cc9-488b-bb32-335a44eb4f1b</td>\n",
       "    </tr>\n",
       "    <tr>\n",
       "      <th>3</th>\n",
       "      <td>5136</td>\n",
       "      <td>Cesar Antonio de Souza</td>\n",
       "      <td>Cesar Antonio de Souza</td>\n",
       "      <td>40260ab9-9261-46b9-8ab3-3c569dfa8b24</td>\n",
       "    </tr>\n",
       "    <tr>\n",
       "      <th>4</th>\n",
       "      <td>5623</td>\n",
       "      <td>Christopher Belchior Goulart</td>\n",
       "      <td>Christopher Goulart</td>\n",
       "      <td>ad36f1e7-f24a-4f51-9f44-c45468e0d4a1</td>\n",
       "    </tr>\n",
       "  </tbody>\n",
       "</table>\n",
       "</div>"
      ],
      "text/plain": [
       "  sen:CodigoParlamentar   sen:NomeCompletoParlamentar     sen:NomeParlamentar  \\\n",
       "0                  5573        Abel Rebouças São José           Abel Rebouças   \n",
       "1                   739      Ciro Nogueira Lima Filho           Ciro Nogueira   \n",
       "2                  5108     José Aparecido dos Santos          Cidinho Santos   \n",
       "3                  5136        Cesar Antonio de Souza  Cesar Antonio de Souza   \n",
       "4                  5623  Christopher Belchior Goulart     Christopher Goulart   \n",
       "\n",
       "                       slp:resource_uri  \n",
       "0  828a0e78-b457-47de-8112-a7cce8d24563  \n",
       "1  59888f36-89fc-40e9-adf7-e95bb4906eb2  \n",
       "2  94be5f0e-2cc9-488b-bb32-335a44eb4f1b  \n",
       "3  40260ab9-9261-46b9-8ab3-3c569dfa8b24  \n",
       "4  ad36f1e7-f24a-4f51-9f44-c45468e0d4a1  "
      ]
     },
     "execution_count": 4,
     "metadata": {},
     "output_type": "execute_result"
    }
   ],
   "source": [
    "mapping = {'skos:prefLabel': 'sen:CodigoParlamentar',\n",
    "  'foaf:name':'sen:NomeCompletoParlamentar',\n",
    "  'rdfs:label':'sen:NomeParlamentar',\n",
    "  'agent_resource_uri':'slp:resource_uri'           \n",
    "}\n",
    "\n",
    "agents = [] \n",
    "for swm_d in senators_with_memberships:\n",
    "    agent_d = {mapping[k]: swm_d.get(k, None) for k in mapping}\n",
    "    if agent_d:\n",
    "        agents.append(agent_d)\n",
    "\n",
    "filename = 'senators-{:}.csv'.format(PROV) \n",
    "file_path = '{:}{:}{:}'.format(AGENTS_PATH, SUB_DIR, filename)\n",
    "df = pd.DataFrame.from_dict(agents)    \n",
    "df.to_csv(file_path, sep=';', encoding='utf-8', index=None)\n",
    "df.head()"
   ]
  },
  {
   "cell_type": "markdown",
   "metadata": {},
   "source": [
    " ## 5. Senate Org\n",
    " \n",
    " ### 5.1 Membership Senator\n",
    " #### 5.1.1 Process"
   ]
  },
  {
   "cell_type": "code",
   "execution_count": 5,
   "metadata": {},
   "outputs": [
    {
     "data": {
      "text/html": [
       "<div>\n",
       "<style scoped>\n",
       "    .dataframe tbody tr th:only-of-type {\n",
       "        vertical-align: middle;\n",
       "    }\n",
       "\n",
       "    .dataframe tbody tr th {\n",
       "        vertical-align: top;\n",
       "    }\n",
       "\n",
       "    .dataframe thead th {\n",
       "        text-align: right;\n",
       "    }\n",
       "</style>\n",
       "<table border=\"1\" class=\"dataframe\">\n",
       "  <thead>\n",
       "    <tr style=\"text-align: right;\">\n",
       "      <th></th>\n",
       "      <th>NumeroLegislatura</th>\n",
       "      <th>org:member</th>\n",
       "      <th>org:role</th>\n",
       "      <th>sen:CodigoMandato</th>\n",
       "      <th>sen:UfParlamentar</th>\n",
       "      <th>sen:finishDate</th>\n",
       "      <th>sen:startDate</th>\n",
       "      <th>slp:resource_uri</th>\n",
       "    </tr>\n",
       "  </thead>\n",
       "  <tbody>\n",
       "    <tr>\n",
       "      <th>0</th>\n",
       "      <td>55</td>\n",
       "      <td>828a0e78-b457-47de-8112-a7cce8d24563</td>\n",
       "      <td>d57a29ff-c69a-4b32-b98a-3dd8f204c0a3</td>\n",
       "      <td>492</td>\n",
       "      <td>BA</td>\n",
       "      <td>2019-01-31</td>\n",
       "      <td>2015-02-01</td>\n",
       "      <td>61e28c9c-c93b-40fc-a73d-3a963632df24</td>\n",
       "    </tr>\n",
       "    <tr>\n",
       "      <th>1</th>\n",
       "      <td>56</td>\n",
       "      <td>828a0e78-b457-47de-8112-a7cce8d24563</td>\n",
       "      <td>c7ffa39b-753d-4f00-bc58-e56f117bb90f</td>\n",
       "      <td>492</td>\n",
       "      <td>BA</td>\n",
       "      <td>2023-01-31</td>\n",
       "      <td>2019-02-01</td>\n",
       "      <td>669716c0-cf09-4d77-896b-8497c3943b34</td>\n",
       "    </tr>\n",
       "    <tr>\n",
       "      <th>2</th>\n",
       "      <td>54</td>\n",
       "      <td>59888f36-89fc-40e9-adf7-e95bb4906eb2</td>\n",
       "      <td>87bdac8c-202c-45bd-a0fd-46b3bbffb8e7</td>\n",
       "      <td>458</td>\n",
       "      <td>PI</td>\n",
       "      <td>2015-01-31</td>\n",
       "      <td>2011-02-01</td>\n",
       "      <td>869d897d-3ab6-448a-ba58-8c18a2aa4421</td>\n",
       "    </tr>\n",
       "    <tr>\n",
       "      <th>3</th>\n",
       "      <td>55</td>\n",
       "      <td>59888f36-89fc-40e9-adf7-e95bb4906eb2</td>\n",
       "      <td>30e06097-514b-44a2-9b11-455c15f28143</td>\n",
       "      <td>458</td>\n",
       "      <td>PI</td>\n",
       "      <td>2019-01-31</td>\n",
       "      <td>2015-02-01</td>\n",
       "      <td>155310d6-40c8-4c04-9234-6f312193b877</td>\n",
       "    </tr>\n",
       "    <tr>\n",
       "      <th>4</th>\n",
       "      <td>54</td>\n",
       "      <td>94be5f0e-2cc9-488b-bb32-335a44eb4f1b</td>\n",
       "      <td>ad4ac225-11f1-4710-8635-07f06a3d37aa</td>\n",
       "      <td>456</td>\n",
       "      <td>MT</td>\n",
       "      <td>2015-01-31</td>\n",
       "      <td>2011-02-01</td>\n",
       "      <td>3e9c9056-8f75-4d44-b5a3-da45f12caa33</td>\n",
       "    </tr>\n",
       "  </tbody>\n",
       "</table>\n",
       "</div>"
      ],
      "text/plain": [
       "  NumeroLegislatura                            org:member  \\\n",
       "0                55  828a0e78-b457-47de-8112-a7cce8d24563   \n",
       "1                56  828a0e78-b457-47de-8112-a7cce8d24563   \n",
       "2                54  59888f36-89fc-40e9-adf7-e95bb4906eb2   \n",
       "3                55  59888f36-89fc-40e9-adf7-e95bb4906eb2   \n",
       "4                54  94be5f0e-2cc9-488b-bb32-335a44eb4f1b   \n",
       "\n",
       "                               org:role sen:CodigoMandato sen:UfParlamentar  \\\n",
       "0  d57a29ff-c69a-4b32-b98a-3dd8f204c0a3               492                BA   \n",
       "1  c7ffa39b-753d-4f00-bc58-e56f117bb90f               492                BA   \n",
       "2  87bdac8c-202c-45bd-a0fd-46b3bbffb8e7               458                PI   \n",
       "3  30e06097-514b-44a2-9b11-455c15f28143               458                PI   \n",
       "4  ad4ac225-11f1-4710-8635-07f06a3d37aa               456                MT   \n",
       "\n",
       "  sen:finishDate sen:startDate                      slp:resource_uri  \n",
       "0     2019-01-31    2015-02-01  61e28c9c-c93b-40fc-a73d-3a963632df24  \n",
       "1     2023-01-31    2019-02-01  669716c0-cf09-4d77-896b-8497c3943b34  \n",
       "2     2015-01-31    2011-02-01  869d897d-3ab6-448a-ba58-8c18a2aa4421  \n",
       "3     2019-01-31    2015-02-01  155310d6-40c8-4c04-9234-6f312193b877  \n",
       "4     2015-01-31    2011-02-01  3e9c9056-8f75-4d44-b5a3-da45f12caa33  "
      ]
     },
     "execution_count": 5,
     "metadata": {},
     "output_type": "execute_result"
    }
   ],
   "source": [
    "mapping = {\n",
    "    'skos:prefLabel': 'sen:CodigoMandato',\n",
    "    'natureza': 'sen:UfParlamentar',\n",
    "    'legislatura': 'NumeroLegislatura', \n",
    "    'startDate': 'sen:startDate', \n",
    "    'finishDate': 'sen:finishDate',\n",
    "    'membership_resource_uri':'slp:resource_uri'\n",
    "}\n",
    "\n",
    "memberships = [] \n",
    "for swm_d in senators_with_memberships:\n",
    "    member_uri = swm_d['agent_resource_uri'] \n",
    "    terms = swm_d['terms']\n",
    "    if terms:\n",
    "        for term_d in terms:\n",
    "            memberships_d = {mapping[k]: term_d.get(k, None) for k in mapping}\n",
    "            if memberships_d:\n",
    "                memberships_d['org:member'] = member_uri\n",
    "                memberships_d['org:role'] = str(uuid4())\n",
    "                memberships.append(memberships_d)\n",
    "\n",
    "\n",
    "\n",
    "df = pd.DataFrame.from_dict(memberships)    \n",
    "df.head()            "
   ]
  },
  {
   "cell_type": "markdown",
   "metadata": {},
   "source": [
    " #### 5.1.2 Save"
   ]
  },
  {
   "cell_type": "code",
   "execution_count": 6,
   "metadata": {
    "collapsed": true
   },
   "outputs": [],
   "source": [
    "filename = 'memberships_with_senate-{:}.csv'.format(PROV, FILE_SUFFIX) \n",
    "file_path = '{:}{:}{:}'.format(MEMBERSHIPS_PATH, SUB_DIR, filename)\n",
    "df.to_csv(file_path, sep=';', encoding='utf-8', index=None)"
   ]
  },
  {
   "cell_type": "markdown",
   "metadata": {},
   "source": [
    "  ### 5.2 Roles at Senado\n",
    "  #### 5.2.1 Process"
   ]
  },
  {
   "cell_type": "code",
   "execution_count": 7,
   "metadata": {},
   "outputs": [
    {
     "data": {
      "text/html": [
       "<div>\n",
       "<style scoped>\n",
       "    .dataframe tbody tr th:only-of-type {\n",
       "        vertical-align: middle;\n",
       "    }\n",
       "\n",
       "    .dataframe tbody tr th {\n",
       "        vertical-align: top;\n",
       "    }\n",
       "\n",
       "    .dataframe thead th {\n",
       "        text-align: right;\n",
       "    }\n",
       "</style>\n",
       "<table border=\"1\" class=\"dataframe\">\n",
       "  <thead>\n",
       "    <tr style=\"text-align: right;\">\n",
       "      <th></th>\n",
       "      <th>slp:resource_uri</th>\n",
       "      <th>rdfs:label</th>\n",
       "    </tr>\n",
       "  </thead>\n",
       "  <tbody>\n",
       "    <tr>\n",
       "      <th>0</th>\n",
       "      <td>d57a29ff-c69a-4b32-b98a-3dd8f204c0a3</td>\n",
       "      <td>Senator</td>\n",
       "    </tr>\n",
       "    <tr>\n",
       "      <th>1</th>\n",
       "      <td>c7ffa39b-753d-4f00-bc58-e56f117bb90f</td>\n",
       "      <td>Senator</td>\n",
       "    </tr>\n",
       "    <tr>\n",
       "      <th>2</th>\n",
       "      <td>87bdac8c-202c-45bd-a0fd-46b3bbffb8e7</td>\n",
       "      <td>Senator</td>\n",
       "    </tr>\n",
       "    <tr>\n",
       "      <th>3</th>\n",
       "      <td>30e06097-514b-44a2-9b11-455c15f28143</td>\n",
       "      <td>Senator</td>\n",
       "    </tr>\n",
       "    <tr>\n",
       "      <th>4</th>\n",
       "      <td>ad4ac225-11f1-4710-8635-07f06a3d37aa</td>\n",
       "      <td>Senator</td>\n",
       "    </tr>\n",
       "  </tbody>\n",
       "</table>\n",
       "</div>"
      ],
      "text/plain": [
       "                       slp:resource_uri rdfs:label\n",
       "0  d57a29ff-c69a-4b32-b98a-3dd8f204c0a3    Senator\n",
       "1  c7ffa39b-753d-4f00-bc58-e56f117bb90f    Senator\n",
       "2  87bdac8c-202c-45bd-a0fd-46b3bbffb8e7    Senator\n",
       "3  30e06097-514b-44a2-9b11-455c15f28143    Senator\n",
       "4  ad4ac225-11f1-4710-8635-07f06a3d37aa    Senator"
      ]
     },
     "execution_count": 7,
     "metadata": {},
     "output_type": "execute_result"
    }
   ],
   "source": [
    "df['org:role'].values\n",
    "df = df['org:role'].to_frame()\n",
    "df = df.rename({'org:role':'slp:resource_uri'}, axis='columns')\n",
    "df['rdfs:label'] = 'Senator'\n",
    "df.head()"
   ]
  },
  {
   "cell_type": "markdown",
   "metadata": {},
   "source": [
    " ####  5.2.2 Save"
   ]
  },
  {
   "cell_type": "code",
   "execution_count": 8,
   "metadata": {
    "collapsed": true
   },
   "outputs": [],
   "source": [
    "filename = 'senator_roles-{:}.csv'.format(PROV, FILE_SUFFIX) \n",
    "file_path = '{:}{:}{:}'.format(ROLES_PATH, SUB_DIR, filename)\n",
    "df.to_csv(file_path, sep=';', encoding='utf-8', index=None)"
   ]
  },
  {
   "cell_type": "markdown",
   "metadata": {},
   "source": [
    "### 5.3 Posts\n",
    "\n",
    "#### 5.3.1 Posts Process"
   ]
  },
  {
   "cell_type": "code",
   "execution_count": 9,
   "metadata": {},
   "outputs": [
    {
     "data": {
      "text/html": [
       "<div>\n",
       "<style scoped>\n",
       "    .dataframe tbody tr th:only-of-type {\n",
       "        vertical-align: middle;\n",
       "    }\n",
       "\n",
       "    .dataframe tbody tr th {\n",
       "        vertical-align: top;\n",
       "    }\n",
       "\n",
       "    .dataframe thead th {\n",
       "        text-align: right;\n",
       "    }\n",
       "</style>\n",
       "<table border=\"1\" class=\"dataframe\">\n",
       "  <thead>\n",
       "    <tr style=\"text-align: right;\">\n",
       "      <th></th>\n",
       "      <th>org:role</th>\n",
       "      <th>slp:resource_uri</th>\n",
       "      <th>org:postIn</th>\n",
       "    </tr>\n",
       "  </thead>\n",
       "  <tbody>\n",
       "    <tr>\n",
       "      <th>0</th>\n",
       "      <td>d57a29ff-c69a-4b32-b98a-3dd8f204c0a3</td>\n",
       "      <td>23460f13-1b74-41b9-97cd-1825c50bb892</td>\n",
       "      <td>81311052-e5b6-46fe-87ba-83865fa0ffb0</td>\n",
       "    </tr>\n",
       "    <tr>\n",
       "      <th>1</th>\n",
       "      <td>c7ffa39b-753d-4f00-bc58-e56f117bb90f</td>\n",
       "      <td>17b98deb-9cc9-490b-8f23-88dd1430a106</td>\n",
       "      <td>81311052-e5b6-46fe-87ba-83865fa0ffb0</td>\n",
       "    </tr>\n",
       "    <tr>\n",
       "      <th>2</th>\n",
       "      <td>87bdac8c-202c-45bd-a0fd-46b3bbffb8e7</td>\n",
       "      <td>1910901d-cb2d-495f-9757-eaae9df0244f</td>\n",
       "      <td>81311052-e5b6-46fe-87ba-83865fa0ffb0</td>\n",
       "    </tr>\n",
       "    <tr>\n",
       "      <th>3</th>\n",
       "      <td>30e06097-514b-44a2-9b11-455c15f28143</td>\n",
       "      <td>8f4b4e68-09f6-4bcc-b58d-c2165f167610</td>\n",
       "      <td>81311052-e5b6-46fe-87ba-83865fa0ffb0</td>\n",
       "    </tr>\n",
       "    <tr>\n",
       "      <th>4</th>\n",
       "      <td>ad4ac225-11f1-4710-8635-07f06a3d37aa</td>\n",
       "      <td>5b9841ba-251f-45b4-860e-630f59b59d92</td>\n",
       "      <td>81311052-e5b6-46fe-87ba-83865fa0ffb0</td>\n",
       "    </tr>\n",
       "  </tbody>\n",
       "</table>\n",
       "</div>"
      ],
      "text/plain": [
       "                               org:role                      slp:resource_uri  \\\n",
       "0  d57a29ff-c69a-4b32-b98a-3dd8f204c0a3  23460f13-1b74-41b9-97cd-1825c50bb892   \n",
       "1  c7ffa39b-753d-4f00-bc58-e56f117bb90f  17b98deb-9cc9-490b-8f23-88dd1430a106   \n",
       "2  87bdac8c-202c-45bd-a0fd-46b3bbffb8e7  1910901d-cb2d-495f-9757-eaae9df0244f   \n",
       "3  30e06097-514b-44a2-9b11-455c15f28143  8f4b4e68-09f6-4bcc-b58d-c2165f167610   \n",
       "4  ad4ac225-11f1-4710-8635-07f06a3d37aa  5b9841ba-251f-45b4-860e-630f59b59d92   \n",
       "\n",
       "                             org:postIn  \n",
       "0  81311052-e5b6-46fe-87ba-83865fa0ffb0  \n",
       "1  81311052-e5b6-46fe-87ba-83865fa0ffb0  \n",
       "2  81311052-e5b6-46fe-87ba-83865fa0ffb0  \n",
       "3  81311052-e5b6-46fe-87ba-83865fa0ffb0  \n",
       "4  81311052-e5b6-46fe-87ba-83865fa0ffb0  "
      ]
     },
     "execution_count": 9,
     "metadata": {},
     "output_type": "execute_result"
    }
   ],
   "source": [
    "df = df.rename({'slp:resource_uri':'org:role'}, axis='columns')\n",
    "df['slp:resource_uri'] = [str(uuid4()) for _ in range(df.shape[0])]\n",
    "df['org:postIn'] = [SENADO_URI]*df.shape[0]\n",
    "df.drop('rdfs:label', axis=1, inplace=True)\n",
    "df.head()"
   ]
  },
  {
   "cell_type": "markdown",
   "metadata": {},
   "source": [
    "#### 5.3.3 Posts save"
   ]
  },
  {
   "cell_type": "code",
   "execution_count": 10,
   "metadata": {
    "collapsed": true
   },
   "outputs": [],
   "source": [
    "filename = 'senator_posts-{:}.csv'.format(PROV, FILE_SUFFIX) \n",
    "file_path = '{:}{:}{:}'.format(POSTS_PATH, SUB_DIR, filename)\n",
    "df.to_csv(file_path, sep=';', encoding='utf-8', index=None)"
   ]
  },
  {
   "cell_type": "markdown",
   "metadata": {
    "collapsed": true
   },
   "source": [
    " ## 6. Parties Org\n",
    "\n",
    " ### 6.1 Membership\n",
    " \n",
    " #### 6.1.1 Process"
   ]
  },
  {
   "cell_type": "code",
   "execution_count": 11,
   "metadata": {},
   "outputs": [
    {
     "data": {
      "text/html": [
       "<div>\n",
       "<style scoped>\n",
       "    .dataframe tbody tr th:only-of-type {\n",
       "        vertical-align: middle;\n",
       "    }\n",
       "\n",
       "    .dataframe tbody tr th {\n",
       "        vertical-align: top;\n",
       "    }\n",
       "\n",
       "    .dataframe thead th {\n",
       "        text-align: right;\n",
       "    }\n",
       "</style>\n",
       "<table border=\"1\" class=\"dataframe\">\n",
       "  <thead>\n",
       "    <tr style=\"text-align: right;\">\n",
       "      <th></th>\n",
       "      <th>org:member</th>\n",
       "      <th>org:role</th>\n",
       "      <th>sen:DataDesfiliacao</th>\n",
       "      <th>sen:DataFiliacao</th>\n",
       "      <th>sen:SiglaPartido</th>\n",
       "      <th>slp:resource_uri</th>\n",
       "    </tr>\n",
       "  </thead>\n",
       "  <tbody>\n",
       "    <tr>\n",
       "      <th>0</th>\n",
       "      <td>85e8b745-786b-4782-a8a1-e3b3164a3f22</td>\n",
       "      <td>5fd22d1b-7488-4dd0-b9cd-80504e6fd655</td>\n",
       "      <td>None</td>\n",
       "      <td>2015-02-01</td>\n",
       "      <td>PDT</td>\n",
       "      <td>0577ae6b-9fa4-4ff0-ac19-9dd5cd3598d1</td>\n",
       "    </tr>\n",
       "    <tr>\n",
       "      <th>1</th>\n",
       "      <td>85e8b745-786b-4782-a8a1-e3b3164a3f22</td>\n",
       "      <td>164d0752-6038-4c41-b6e2-faed52cb0d7b</td>\n",
       "      <td>None</td>\n",
       "      <td>2004-02-14</td>\n",
       "      <td>PP</td>\n",
       "      <td>b2ec603a-26b8-4e59-8a59-624d2f0973ac</td>\n",
       "    </tr>\n",
       "    <tr>\n",
       "      <th>2</th>\n",
       "      <td>85e8b745-786b-4782-a8a1-e3b3164a3f22</td>\n",
       "      <td>747e074a-1d6e-428d-ac06-7bbd71089874</td>\n",
       "      <td>2004-02-13</td>\n",
       "      <td>1999-02-01</td>\n",
       "      <td>PFL</td>\n",
       "      <td>3cf1400f-9fe7-4552-99ac-d0a4a52a1510</td>\n",
       "    </tr>\n",
       "    <tr>\n",
       "      <th>3</th>\n",
       "      <td>85e8b745-786b-4782-a8a1-e3b3164a3f22</td>\n",
       "      <td>091020cf-a2a7-4756-8f74-d63299056437</td>\n",
       "      <td>None</td>\n",
       "      <td>2011-02-03</td>\n",
       "      <td>PR</td>\n",
       "      <td>da9f5ea7-2636-4240-af94-94e0df597ae9</td>\n",
       "    </tr>\n",
       "    <tr>\n",
       "      <th>4</th>\n",
       "      <td>85e8b745-786b-4782-a8a1-e3b3164a3f22</td>\n",
       "      <td>7954e420-670d-480f-94fc-d7355b046baa</td>\n",
       "      <td>None</td>\n",
       "      <td>2011-02-03</td>\n",
       "      <td>DEM</td>\n",
       "      <td>89a85f62-3dce-499c-a72a-0917f5bf5240</td>\n",
       "    </tr>\n",
       "  </tbody>\n",
       "</table>\n",
       "</div>"
      ],
      "text/plain": [
       "                             org:member                              org:role  \\\n",
       "0  85e8b745-786b-4782-a8a1-e3b3164a3f22  5fd22d1b-7488-4dd0-b9cd-80504e6fd655   \n",
       "1  85e8b745-786b-4782-a8a1-e3b3164a3f22  164d0752-6038-4c41-b6e2-faed52cb0d7b   \n",
       "2  85e8b745-786b-4782-a8a1-e3b3164a3f22  747e074a-1d6e-428d-ac06-7bbd71089874   \n",
       "3  85e8b745-786b-4782-a8a1-e3b3164a3f22  091020cf-a2a7-4756-8f74-d63299056437   \n",
       "4  85e8b745-786b-4782-a8a1-e3b3164a3f22  7954e420-670d-480f-94fc-d7355b046baa   \n",
       "\n",
       "  sen:DataDesfiliacao sen:DataFiliacao sen:SiglaPartido  \\\n",
       "0                None       2015-02-01              PDT   \n",
       "1                None       2004-02-14               PP   \n",
       "2          2004-02-13       1999-02-01              PFL   \n",
       "3                None       2011-02-03               PR   \n",
       "4                None       2011-02-03              DEM   \n",
       "\n",
       "                       slp:resource_uri  \n",
       "0  0577ae6b-9fa4-4ff0-ac19-9dd5cd3598d1  \n",
       "1  b2ec603a-26b8-4e59-8a59-624d2f0973ac  \n",
       "2  3cf1400f-9fe7-4552-99ac-d0a4a52a1510  \n",
       "3  da9f5ea7-2636-4240-af94-94e0df597ae9  \n",
       "4  89a85f62-3dce-499c-a72a-0917f5bf5240  "
      ]
     },
     "execution_count": 11,
     "metadata": {},
     "output_type": "execute_result"
    }
   ],
   "source": [
    "mapping = {\n",
    "    'sigla': 'sen:SiglaPartido',\n",
    "    'startDate': 'sen:DataFiliacao' ,\n",
    "    'finishDate': 'sen:DataDesfiliacao',\n",
    "    'resource_uri': 'slp:resource_uri'\n",
    "}\n",
    "\n",
    "memberships = [] \n",
    "for swm_d in senators_with_memberships:\n",
    "    affiliations = swm_d['affiliations']\n",
    "    if affiliations:\n",
    "        for affiliation_d in affiliations:\n",
    "            if affiliation_d['sigla'] in parties_d:\n",
    "                memberships_d = {mapping[k]: affiliation_d.get(k, None) for k in mapping}\n",
    "                if memberships_d:\n",
    "                    memberships_d['org:member'] = member_uri\n",
    "                    memberships_d['org:role'] = str(uuid4())\n",
    "                    memberships.append(memberships_d)\n",
    "\n",
    "\n",
    "\n",
    "                    \n",
    "df = pd.DataFrame.from_dict(memberships)    \n",
    "roles = df['org:role'].values\n",
    "parties = df['sen:SiglaPartido'].values\n",
    "df.head()            "
   ]
  },
  {
   "cell_type": "markdown",
   "metadata": {},
   "source": [
    " #### 6.1.2 Save"
   ]
  },
  {
   "cell_type": "code",
   "execution_count": 12,
   "metadata": {
    "collapsed": true
   },
   "outputs": [],
   "source": [
    "filename = 'memberships_at_parties-{:}.csv'.format(PROV) \n",
    "file_path = '{:}{:}{:}'.format(MEMBERSHIPS_PATH, SUB_DIR, filename)\n",
    "df.to_csv(file_path, sep=';', encoding='utf-8', index=None)"
   ]
  },
  {
   "cell_type": "markdown",
   "metadata": {},
   "source": [
    "  ### 6.2 Roles at Parties\n",
    "  #### 6.2.1 Process"
   ]
  },
  {
   "cell_type": "code",
   "execution_count": 13,
   "metadata": {},
   "outputs": [
    {
     "data": {
      "text/html": [
       "<div>\n",
       "<style scoped>\n",
       "    .dataframe tbody tr th:only-of-type {\n",
       "        vertical-align: middle;\n",
       "    }\n",
       "\n",
       "    .dataframe tbody tr th {\n",
       "        vertical-align: top;\n",
       "    }\n",
       "\n",
       "    .dataframe thead th {\n",
       "        text-align: right;\n",
       "    }\n",
       "</style>\n",
       "<table border=\"1\" class=\"dataframe\">\n",
       "  <thead>\n",
       "    <tr style=\"text-align: right;\">\n",
       "      <th></th>\n",
       "      <th>slp:resource_uri</th>\n",
       "      <th>rdfs:label</th>\n",
       "    </tr>\n",
       "  </thead>\n",
       "  <tbody>\n",
       "    <tr>\n",
       "      <th>0</th>\n",
       "      <td>5fd22d1b-7488-4dd0-b9cd-80504e6fd655</td>\n",
       "      <td>Affiliate</td>\n",
       "    </tr>\n",
       "    <tr>\n",
       "      <th>1</th>\n",
       "      <td>164d0752-6038-4c41-b6e2-faed52cb0d7b</td>\n",
       "      <td>Affiliate</td>\n",
       "    </tr>\n",
       "    <tr>\n",
       "      <th>2</th>\n",
       "      <td>747e074a-1d6e-428d-ac06-7bbd71089874</td>\n",
       "      <td>Affiliate</td>\n",
       "    </tr>\n",
       "    <tr>\n",
       "      <th>3</th>\n",
       "      <td>091020cf-a2a7-4756-8f74-d63299056437</td>\n",
       "      <td>Affiliate</td>\n",
       "    </tr>\n",
       "    <tr>\n",
       "      <th>4</th>\n",
       "      <td>7954e420-670d-480f-94fc-d7355b046baa</td>\n",
       "      <td>Affiliate</td>\n",
       "    </tr>\n",
       "  </tbody>\n",
       "</table>\n",
       "</div>"
      ],
      "text/plain": [
       "                       slp:resource_uri rdfs:label\n",
       "0  5fd22d1b-7488-4dd0-b9cd-80504e6fd655  Affiliate\n",
       "1  164d0752-6038-4c41-b6e2-faed52cb0d7b  Affiliate\n",
       "2  747e074a-1d6e-428d-ac06-7bbd71089874  Affiliate\n",
       "3  091020cf-a2a7-4756-8f74-d63299056437  Affiliate\n",
       "4  7954e420-670d-480f-94fc-d7355b046baa  Affiliate"
      ]
     },
     "execution_count": 13,
     "metadata": {},
     "output_type": "execute_result"
    }
   ],
   "source": [
    "df = df['org:role'].to_frame()\n",
    "df = df.rename({'org:role':'slp:resource_uri'}, axis='columns')\n",
    "df['rdfs:label'] = 'Affiliate'\n",
    "df.head()"
   ]
  },
  {
   "cell_type": "markdown",
   "metadata": {},
   "source": [
    " #### 6.2.2 Save"
   ]
  },
  {
   "cell_type": "code",
   "execution_count": 14,
   "metadata": {
    "collapsed": true
   },
   "outputs": [],
   "source": [
    "filename = 'roles_affiliatiate-{:}.csv'.format(PROV) \n",
    "file_path = '{:}{:}{:}'.format(ROLES_PATH, SUB_DIR, filename)\n",
    "df.to_csv(file_path, sep=';', encoding='utf-8', index=None)"
   ]
  },
  {
   "cell_type": "markdown",
   "metadata": {},
   "source": [
    " ### 6.3 Posts at Parties\n",
    " #### 6.3.1 Process"
   ]
  },
  {
   "cell_type": "code",
   "execution_count": 15,
   "metadata": {},
   "outputs": [
    {
     "data": {
      "text/html": [
       "<div>\n",
       "<style scoped>\n",
       "    .dataframe tbody tr th:only-of-type {\n",
       "        vertical-align: middle;\n",
       "    }\n",
       "\n",
       "    .dataframe tbody tr th {\n",
       "        vertical-align: top;\n",
       "    }\n",
       "\n",
       "    .dataframe thead th {\n",
       "        text-align: right;\n",
       "    }\n",
       "</style>\n",
       "<table border=\"1\" class=\"dataframe\">\n",
       "  <thead>\n",
       "    <tr style=\"text-align: right;\">\n",
       "      <th></th>\n",
       "      <th>org:role</th>\n",
       "      <th>slp:resource_uri</th>\n",
       "    </tr>\n",
       "  </thead>\n",
       "  <tbody>\n",
       "    <tr>\n",
       "      <th>0</th>\n",
       "      <td>5fd22d1b-7488-4dd0-b9cd-80504e6fd655</td>\n",
       "      <td>7b210070-df61-11e7-97e9-c82a144c0a85</td>\n",
       "    </tr>\n",
       "    <tr>\n",
       "      <th>1</th>\n",
       "      <td>164d0752-6038-4c41-b6e2-faed52cb0d7b</td>\n",
       "      <td>7b21152e-df61-11e7-bdcf-c82a144c0a85</td>\n",
       "    </tr>\n",
       "    <tr>\n",
       "      <th>2</th>\n",
       "      <td>747e074a-1d6e-428d-ac06-7bbd71089874</td>\n",
       "      <td>7b21046c-df61-11e7-8094-c82a144c0a85</td>\n",
       "    </tr>\n",
       "    <tr>\n",
       "      <th>3</th>\n",
       "      <td>091020cf-a2a7-4756-8f74-d63299056437</td>\n",
       "      <td>7b211a38-df61-11e7-b1b8-c82a144c0a85</td>\n",
       "    </tr>\n",
       "    <tr>\n",
       "      <th>4</th>\n",
       "      <td>7954e420-670d-480f-94fc-d7355b046baa</td>\n",
       "      <td>7b20ed7e-df61-11e7-bb65-c82a144c0a85</td>\n",
       "    </tr>\n",
       "  </tbody>\n",
       "</table>\n",
       "</div>"
      ],
      "text/plain": [
       "                               org:role                      slp:resource_uri\n",
       "0  5fd22d1b-7488-4dd0-b9cd-80504e6fd655  7b210070-df61-11e7-97e9-c82a144c0a85\n",
       "1  164d0752-6038-4c41-b6e2-faed52cb0d7b  7b21152e-df61-11e7-bdcf-c82a144c0a85\n",
       "2  747e074a-1d6e-428d-ac06-7bbd71089874  7b21046c-df61-11e7-8094-c82a144c0a85\n",
       "3  091020cf-a2a7-4756-8f74-d63299056437  7b211a38-df61-11e7-b1b8-c82a144c0a85\n",
       "4  7954e420-670d-480f-94fc-d7355b046baa  7b20ed7e-df61-11e7-bb65-c82a144c0a85"
      ]
     },
     "execution_count": 15,
     "metadata": {},
     "output_type": "execute_result"
    }
   ],
   "source": [
    "df = df.rename({'slp:resource_uri':'org:role'}, axis='columns')\n",
    "df['slp:resource_uri'] = [parties_d.get(sigla, None) for sigla in parties]\n",
    "df.drop('rdfs:label', axis=1, inplace=True)\n",
    "df.head()"
   ]
  },
  {
   "cell_type": "markdown",
   "metadata": {},
   "source": [
    " #### 6.3.2 Save"
   ]
  },
  {
   "cell_type": "code",
   "execution_count": 16,
   "metadata": {
    "collapsed": true
   },
   "outputs": [],
   "source": [
    "filename = 'posts_at_parties-{:}.csv'.format(PROV) \n",
    "file_path = '{:}{:}{:}'.format(POSTS_PATH, SUB_DIR, filename)\n",
    "df.to_csv(file_path, sep=';', encoding='utf-8', index=None)"
   ]
  }
 ],
 "metadata": {
  "kernelspec": {
   "display_name": "Python 3",
   "language": "python",
   "name": "python3"
  },
  "language_info": {
   "codemirror_mode": {
    "name": "ipython",
    "version": 3
   },
   "file_extension": ".py",
   "mimetype": "text/x-python",
   "name": "python",
   "nbconvert_exporter": "python",
   "pygments_lexer": "ipython3",
   "version": "3.6.1"
  }
 },
 "nbformat": 4,
 "nbformat_minor": 2
}
