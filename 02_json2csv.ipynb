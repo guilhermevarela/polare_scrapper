{
 "cells": [
  {
   "cell_type": "code",
   "execution_count": 8,
   "metadata": {
    "collapsed": true
   },
   "outputs": [],
   "source": [
    "import json \n",
    "import pandas as pd \n"
   ]
  },
  {
   "cell_type": "code",
   "execution_count": 12,
   "metadata": {},
   "outputs": [
    {
     "data": {
      "text/html": [
       "<div>\n",
       "<style scoped>\n",
       "    .dataframe tbody tr th:only-of-type {\n",
       "        vertical-align: middle;\n",
       "    }\n",
       "\n",
       "    .dataframe tbody tr th {\n",
       "        vertical-align: top;\n",
       "    }\n",
       "\n",
       "    .dataframe thead th {\n",
       "        text-align: right;\n",
       "    }\n",
       "</style>\n",
       "<table border=\"1\" class=\"dataframe\">\n",
       "  <thead>\n",
       "    <tr style=\"text-align: right;\">\n",
       "      <th></th>\n",
       "      <th>cam:dataFalecimento</th>\n",
       "      <th>cam:dataNascimento</th>\n",
       "      <th>cam:email</th>\n",
       "      <th>cam:ideCadastro</th>\n",
       "      <th>cam:nomeCivil</th>\n",
       "      <th>cam:nomeParlamentarAtual</th>\n",
       "      <th>cam:nomeProfissao</th>\n",
       "      <th>cam:sexo</th>\n",
       "      <th>slp:old_resource_uri</th>\n",
       "      <th>slp:resource_uri</th>\n",
       "    </tr>\n",
       "  </thead>\n",
       "  <tbody>\n",
       "    <tr>\n",
       "      <th>0</th>\n",
       "      <td>None</td>\n",
       "      <td>1956-08-24</td>\n",
       "      <td>dep.franciscochapadinha@camara.gov.br</td>\n",
       "      <td>178907</td>\n",
       "      <td>FRANCISCO ALVES DE AGUIAR</td>\n",
       "      <td>FRANCISCO CHAPADINHA</td>\n",
       "      <td>Empresário</td>\n",
       "      <td>M</td>\n",
       "      <td>ae758b3ef193ee48b2d34397e1e76283</td>\n",
       "      <td>409061cc-d6a5-49f9-996e-3dc8d8e88cc5</td>\n",
       "    </tr>\n",
       "    <tr>\n",
       "      <th>1</th>\n",
       "      <td>None</td>\n",
       "      <td>1989-02-26</td>\n",
       "      <td>dep.alielmachado@camara.gov.br</td>\n",
       "      <td>178927</td>\n",
       "      <td>ALIEL MACHADO BARK</td>\n",
       "      <td>ALIEL MACHADO</td>\n",
       "      <td>None</td>\n",
       "      <td>M</td>\n",
       "      <td>292752eeb282a9776ee443cf44b26bb7</td>\n",
       "      <td>c7d2c86b-c687-424c-9bec-53575393b5e2</td>\n",
       "    </tr>\n",
       "    <tr>\n",
       "      <th>2</th>\n",
       "      <td>None</td>\n",
       "      <td>1967-04-21</td>\n",
       "      <td>dep.danilocabral@camara.gov.br</td>\n",
       "      <td>160528</td>\n",
       "      <td>DANILO JORGE DE BARROS CABRAL</td>\n",
       "      <td>DANILO CABRAL</td>\n",
       "      <td>None</td>\n",
       "      <td>M</td>\n",
       "      <td>338bb4101273f30f14f85cb44c503aa8</td>\n",
       "      <td>dc5f63b1-40b5-420e-896a-63ce668e4337</td>\n",
       "    </tr>\n",
       "    <tr>\n",
       "      <th>3</th>\n",
       "      <td>None</td>\n",
       "      <td>1966-06-22</td>\n",
       "      <td>dep.robertogoes@camara.gov.br</td>\n",
       "      <td>178995</td>\n",
       "      <td>ANTONIO ROBERTO RODRIGUES GÓES DA SILVA</td>\n",
       "      <td>ROBERTO GÓES</td>\n",
       "      <td>Administrador</td>\n",
       "      <td>M</td>\n",
       "      <td>d756776bc56efce11d2fecee1f4855d0</td>\n",
       "      <td>bfdd3a56-b587-48a0-9bea-aba9ddb4ac7a</td>\n",
       "    </tr>\n",
       "    <tr>\n",
       "      <th>4</th>\n",
       "      <td>None</td>\n",
       "      <td>1977-06-01</td>\n",
       "      <td>dep.faustopinato@camara.gov.br</td>\n",
       "      <td>66828</td>\n",
       "      <td>FAUSTO RUY PINATO</td>\n",
       "      <td>FAUSTO PINATO</td>\n",
       "      <td>Advogado(a)</td>\n",
       "      <td>M</td>\n",
       "      <td>14c254655904402a20ef86994443472e</td>\n",
       "      <td>f86e86da-0ac5-4f9c-9635-bb3a9c0b9d63</td>\n",
       "    </tr>\n",
       "  </tbody>\n",
       "</table>\n",
       "</div>"
      ],
      "text/plain": [
       "  cam:dataFalecimento cam:dataNascimento  \\\n",
       "0                None         1956-08-24   \n",
       "1                None         1989-02-26   \n",
       "2                None         1967-04-21   \n",
       "3                None         1966-06-22   \n",
       "4                None         1977-06-01   \n",
       "\n",
       "                               cam:email cam:ideCadastro  \\\n",
       "0  dep.franciscochapadinha@camara.gov.br          178907   \n",
       "1         dep.alielmachado@camara.gov.br          178927   \n",
       "2         dep.danilocabral@camara.gov.br          160528   \n",
       "3          dep.robertogoes@camara.gov.br          178995   \n",
       "4         dep.faustopinato@camara.gov.br           66828   \n",
       "\n",
       "                             cam:nomeCivil cam:nomeParlamentarAtual  \\\n",
       "0                FRANCISCO ALVES DE AGUIAR     FRANCISCO CHAPADINHA   \n",
       "1                       ALIEL MACHADO BARK            ALIEL MACHADO   \n",
       "2            DANILO JORGE DE BARROS CABRAL            DANILO CABRAL   \n",
       "3  ANTONIO ROBERTO RODRIGUES GÓES DA SILVA             ROBERTO GÓES   \n",
       "4                        FAUSTO RUY PINATO            FAUSTO PINATO   \n",
       "\n",
       "  cam:nomeProfissao cam:sexo              slp:old_resource_uri  \\\n",
       "0        Empresário        M  ae758b3ef193ee48b2d34397e1e76283   \n",
       "1              None        M  292752eeb282a9776ee443cf44b26bb7   \n",
       "2              None        M  338bb4101273f30f14f85cb44c503aa8   \n",
       "3     Administrador        M  d756776bc56efce11d2fecee1f4855d0   \n",
       "4       Advogado(a)        M  14c254655904402a20ef86994443472e   \n",
       "\n",
       "                       slp:resource_uri  \n",
       "0  409061cc-d6a5-49f9-996e-3dc8d8e88cc5  \n",
       "1  c7d2c86b-c687-424c-9bec-53575393b5e2  \n",
       "2  dc5f63b1-40b5-420e-896a-63ce668e4337  \n",
       "3  bfdd3a56-b587-48a0-9bea-aba9ddb4ac7a  \n",
       "4  f86e86da-0ac5-4f9c-9635-bb3a9c0b9d63  "
      ]
     },
     "execution_count": 12,
     "metadata": {},
     "output_type": "execute_result"
    }
   ],
   "source": [
    "with open('datasets/congressmen-55.json', mode='r') as f:\n",
    "    congressmen = json.load(f)\n",
    "f.close()\n",
    "df_deputados = pd.DataFrame.from_dict(congressmen)\n",
    "df_deputados.head()"
   ]
  },
  {
   "cell_type": "code",
   "execution_count": 13,
   "metadata": {
    "collapsed": true
   },
   "outputs": [],
   "source": [
    "df_deputados.to_csv('datasets/deputados-55.csv', sep= ';', index=None, encoding= 'utf-8')"
   ]
  },
  {
   "cell_type": "code",
   "execution_count": null,
   "metadata": {
    "collapsed": true
   },
   "outputs": [],
   "source": []
  }
 ],
 "metadata": {
  "kernelspec": {
   "display_name": "Python 3",
   "language": "python",
   "name": "python3"
  },
  "language_info": {
   "codemirror_mode": {
    "name": "ipython",
    "version": 3
   },
   "file_extension": ".py",
   "mimetype": "text/x-python",
   "name": "python",
   "nbconvert_exporter": "python",
   "pygments_lexer": "ipython3",
   "version": "3.6.3"
  }
 },
 "nbformat": 4,
 "nbformat_minor": 2
}
