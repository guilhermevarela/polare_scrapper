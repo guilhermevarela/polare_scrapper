{
 "cells": [
  {
   "cell_type": "code",
   "execution_count": 1,
   "metadata": {
    "collapsed": true
   },
   "outputs": [],
   "source": [
    "import json \n",
    "import pandas as pd \n"
   ]
  },
  {
   "cell_type": "code",
   "execution_count": 2,
   "metadata": {},
   "outputs": [
    {
     "data": {
      "text/html": [
       "<div>\n",
       "<style scoped>\n",
       "    .dataframe tbody tr th:only-of-type {\n",
       "        vertical-align: middle;\n",
       "    }\n",
       "\n",
       "    .dataframe tbody tr th {\n",
       "        vertical-align: top;\n",
       "    }\n",
       "\n",
       "    .dataframe thead th {\n",
       "        text-align: right;\n",
       "    }\n",
       "</style>\n",
       "<table border=\"1\" class=\"dataframe\">\n",
       "  <thead>\n",
       "    <tr style=\"text-align: right;\">\n",
       "      <th></th>\n",
       "      <th>cam:dataFalecimento</th>\n",
       "      <th>cam:dataNascimento</th>\n",
       "      <th>cam:email</th>\n",
       "      <th>cam:ideCadastro</th>\n",
       "      <th>cam:nomeCivil</th>\n",
       "      <th>cam:nomeParlamentarAtual</th>\n",
       "      <th>cam:nomeProfissao</th>\n",
       "      <th>cam:sexo</th>\n",
       "      <th>slp:old_resource_uri</th>\n",
       "      <th>slp:resource_uri</th>\n",
       "    </tr>\n",
       "  </thead>\n",
       "  <tbody>\n",
       "    <tr>\n",
       "      <th>0</th>\n",
       "      <td>None</td>\n",
       "      <td>1989-02-26</td>\n",
       "      <td>dep.alielmachado@camara.gov.br</td>\n",
       "      <td>178927</td>\n",
       "      <td>ALIEL MACHADO BARK</td>\n",
       "      <td>ALIEL MACHADO</td>\n",
       "      <td>None</td>\n",
       "      <td>M</td>\n",
       "      <td>292752eeb282a9776ee443cf44b26bb7</td>\n",
       "      <td>15b8fc34-6360-46bc-8b4d-8ec80564101d</td>\n",
       "    </tr>\n",
       "    <tr>\n",
       "      <th>1</th>\n",
       "      <td>None</td>\n",
       "      <td>1973-11-11</td>\n",
       "      <td>dep.joaomarcelosouza@camara.gov.br</td>\n",
       "      <td>112437</td>\n",
       "      <td>JOÃO MARCELO SANTOS SOUZA</td>\n",
       "      <td>JOÃO MARCELO SOUZA</td>\n",
       "      <td>Psicólogo</td>\n",
       "      <td>M</td>\n",
       "      <td>de549e980bd660b3b287d5893a2e41a8</td>\n",
       "      <td>8e0752c7-21d0-46b9-8fef-0a3a49305652</td>\n",
       "    </tr>\n",
       "    <tr>\n",
       "      <th>2</th>\n",
       "      <td>None</td>\n",
       "      <td>1940-12-15</td>\n",
       "      <td>dep.junjiabe@camara.gov.br</td>\n",
       "      <td>160544</td>\n",
       "      <td>JUNJI ABE</td>\n",
       "      <td>JUNJI ABE</td>\n",
       "      <td>None</td>\n",
       "      <td>M</td>\n",
       "      <td>None</td>\n",
       "      <td>e3424f93-3e6e-48a8-a6d6-8dc50138f1fc</td>\n",
       "    </tr>\n",
       "    <tr>\n",
       "      <th>3</th>\n",
       "      <td>None</td>\n",
       "      <td>1966-06-22</td>\n",
       "      <td>dep.robertogoes@camara.gov.br</td>\n",
       "      <td>178995</td>\n",
       "      <td>ANTONIO ROBERTO RODRIGUES GÓES DA SILVA</td>\n",
       "      <td>ROBERTO GÓES</td>\n",
       "      <td>Administrador</td>\n",
       "      <td>M</td>\n",
       "      <td>d756776bc56efce11d2fecee1f4855d0</td>\n",
       "      <td>0c09b717-9e84-4f96-baff-1396ffde2225</td>\n",
       "    </tr>\n",
       "    <tr>\n",
       "      <th>4</th>\n",
       "      <td>None</td>\n",
       "      <td>1971-10-28</td>\n",
       "      <td>dep.alessandromolon@camara.gov.br</td>\n",
       "      <td>160511</td>\n",
       "      <td>ALESSANDRO LUCCIOLA MOLON</td>\n",
       "      <td>ALESSANDRO MOLON</td>\n",
       "      <td>None</td>\n",
       "      <td>M</td>\n",
       "      <td>069ec5b7ba726af033923cb2dd8a7340</td>\n",
       "      <td>e0bea418-a279-4fc1-be87-0ad12b13d570</td>\n",
       "    </tr>\n",
       "  </tbody>\n",
       "</table>\n",
       "</div>"
      ],
      "text/plain": [
       "  cam:dataFalecimento cam:dataNascimento                           cam:email  \\\n",
       "0                None         1989-02-26      dep.alielmachado@camara.gov.br   \n",
       "1                None         1973-11-11  dep.joaomarcelosouza@camara.gov.br   \n",
       "2                None         1940-12-15          dep.junjiabe@camara.gov.br   \n",
       "3                None         1966-06-22       dep.robertogoes@camara.gov.br   \n",
       "4                None         1971-10-28   dep.alessandromolon@camara.gov.br   \n",
       "\n",
       "  cam:ideCadastro                            cam:nomeCivil  \\\n",
       "0          178927                       ALIEL MACHADO BARK   \n",
       "1          112437                JOÃO MARCELO SANTOS SOUZA   \n",
       "2          160544                                JUNJI ABE   \n",
       "3          178995  ANTONIO ROBERTO RODRIGUES GÓES DA SILVA   \n",
       "4          160511                ALESSANDRO LUCCIOLA MOLON   \n",
       "\n",
       "  cam:nomeParlamentarAtual cam:nomeProfissao cam:sexo  \\\n",
       "0            ALIEL MACHADO              None        M   \n",
       "1       JOÃO MARCELO SOUZA         Psicólogo        M   \n",
       "2                JUNJI ABE              None        M   \n",
       "3             ROBERTO GÓES     Administrador        M   \n",
       "4         ALESSANDRO MOLON              None        M   \n",
       "\n",
       "               slp:old_resource_uri                      slp:resource_uri  \n",
       "0  292752eeb282a9776ee443cf44b26bb7  15b8fc34-6360-46bc-8b4d-8ec80564101d  \n",
       "1  de549e980bd660b3b287d5893a2e41a8  8e0752c7-21d0-46b9-8fef-0a3a49305652  \n",
       "2                              None  e3424f93-3e6e-48a8-a6d6-8dc50138f1fc  \n",
       "3  d756776bc56efce11d2fecee1f4855d0  0c09b717-9e84-4f96-baff-1396ffde2225  \n",
       "4  069ec5b7ba726af033923cb2dd8a7340  e0bea418-a279-4fc1-be87-0ad12b13d570  "
      ]
     },
     "execution_count": 2,
     "metadata": {},
     "output_type": "execute_result"
    }
   ],
   "source": [
    "with open('datasets/congressmen-55.json', mode='r') as f:\n",
    "    congressmen = json.load(f)\n",
    "f.close()\n",
    "df_deputados = pd.DataFrame.from_dict(congressmen)\n",
    "df_deputados.head()"
   ]
  },
  {
   "cell_type": "code",
   "execution_count": 3,
   "metadata": {
    "collapsed": true
   },
   "outputs": [],
   "source": [
    "df_deputados.to_csv('datasets/deputados-55.csv', sep= ';', index=None, encoding= 'utf-8')"
   ]
  },
  {
   "cell_type": "code",
   "execution_count": null,
   "metadata": {
    "collapsed": true
   },
   "outputs": [],
   "source": []
  }
 ],
 "metadata": {
  "kernelspec": {
   "display_name": "Python 3",
   "language": "python",
   "name": "python3"
  },
  "language_info": {
   "codemirror_mode": {
    "name": "ipython",
    "version": 3
   },
   "file_extension": ".py",
   "mimetype": "text/x-python",
   "name": "python",
   "nbconvert_exporter": "python",
   "pygments_lexer": "ipython3",
   "version": "3.6.3"
  }
 },
 "nbformat": 4,
 "nbformat_minor": 2
}
