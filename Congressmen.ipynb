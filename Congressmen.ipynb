{
 "cells": [
  {
   "cell_type": "markdown",
   "metadata": {},
   "source": [
    "# 1. IMPORT"
   ]
  },
  {
   "cell_type": "code",
   "execution_count": null,
   "metadata": {
    "collapsed": true
   },
   "outputs": [],
   "source": [
    "import json \n",
    "import pandas as pd\n",
    "from collections import deque\n",
    "\n",
    "termid = 55 # legislatura\n",
    "start_date = '2015-01-02'\n",
    "\n",
    "PROV = 'cam'\n",
    "JSON_PATH =  'datasets/camara/json/'\n",
    "JSON2_PATH =  'datasets/camara2/json/'\n",
    "\n",
    "AGENTS_PATH = 'datasets/slp/agents/'\n",
    "MEMBERSHIPS_PATH = 'datasets/slp/memberships/'\n",
    "ORGANIZATIONS_PATH = 'datasets/slp/organizations/'\n",
    "POSTS_PATH = 'datasets/slp/posts/'\n",
    "\n",
    "FILE_SUFFIX = '55'\n",
    "SENADO_URI = '81311052-e5b6-46fe-87ba-83865fa0ffb0' \n"
   ]
  }
 ],
 "metadata": {
  "kernelspec": {
   "display_name": "Python 3",
   "language": "python",
   "name": "python3"
  },
  "language_info": {
   "codemirror_mode": {
    "name": "ipython",
    "version": 3
   },
   "file_extension": ".py",
   "mimetype": "text/x-python",
   "name": "python",
   "nbconvert_exporter": "python",
   "pygments_lexer": "ipython3",
   "version": "3.6.3"
  }
 },
 "nbformat": 4,
 "nbformat_minor": 2
}
