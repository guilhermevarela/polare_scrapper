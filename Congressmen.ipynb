{
 "cells": [
  {
   "cell_type": "markdown",
   "metadata": {},
   "source": [
    "# 1. IMPORT"
   ]
  },
  {
   "cell_type": "code",
   "execution_count": 6,
   "metadata": {
    "collapsed": true
   },
   "outputs": [],
   "source": [
    "import json \n",
    "import pandas as pd\n",
    "from collections import deque\n",
    "\n",
    "termid = 55 # legislatura\n",
    "start_date = '2015-01-02'\n",
    "\n",
    "PROV = 'cam'\n",
    "JSON_PATH =  'datasets/camara/json/'\n",
    "\n",
    "AGENTS_PATH = 'datasets/slp/agents/'\n",
    "MEMBERSHIPS_PATH = 'datasets/slp/memberships/'\n",
    "ORGANIZATIONS_PATH = 'datasets/slp/organizations/'\n",
    "POSTS_PATH = 'datasets/slp/posts/'\n",
    "\n",
    "FILE_SUFFIX = '55'\n",
    "CAMARA_URI = 'c8f660fd-7d0b-48e5-8513-2f7f0bb5f91c' \n"
   ]
  },
  {
   "cell_type": "markdown",
   "metadata": {},
   "source": [
    " # 1.2 Getting the parties"
   ]
  },
  {
   "cell_type": "code",
   "execution_count": 7,
   "metadata": {},
   "outputs": [
    {
     "name": "stdout",
     "output_type": "stream",
     "text": [
      "{'PT': '7b2138a6-df61-11e7-baf1-c82a144c0a85', 'PMDB': '7b210cfa-df61-11e7-9864-c82a144c0a85', 'DEM': '7b20ed7e-df61-11e7-bb65-c82a144c0a85'}\n"
     ]
    }
   ],
   "source": [
    "filename = 'parties.csv'\n",
    "file_path = '{:}{:}'.format(ORGANIZATIONS_PATH, filename)\n",
    "df_parties = pd.read_csv(file_path, sep= ';', encoding= 'utf-8', index_col=None)\n",
    "df_parties.set_index('sigla', inplace=True)\n",
    "\n",
    "\n",
    "parties_d = df_parties['slp:resource_uri'].to_dict()                        \n",
    "print({k:parties_d[k]\n",
    "    for k in ['PT', 'PMDB', 'DEM']})"
   ]
  },
  {
   "cell_type": "markdown",
   "metadata": {},
   "source": [
    "# 2. Reads json and stores in an array of dicts"
   ]
  },
  {
   "cell_type": "code",
   "execution_count": 16,
   "metadata": {},
   "outputs": [],
   "source": [
    "filename = 'congressman_with_memberships-{:}.json'.format(FILE_SUFFIX) \n",
    "file_path = '{:}{:}'.format(JSON_PATH, filename)\n",
    "with open(file_path, mode='r') as f:\n",
    "    senatorsstr = f.read()\n",
    "f.close()\n",
    "\n",
    "congressmen_with_memberships = json.loads(senatorsstr)"
   ]
  },
  {
   "cell_type": "markdown",
   "metadata": {},
   "source": [
    "# 3. Iterates saving the agents"
   ]
  },
  {
   "cell_type": "code",
   "execution_count": 17,
   "metadata": {},
   "outputs": [
    {
     "data": {
      "text/html": [
       "<div>\n",
       "<style scoped>\n",
       "    .dataframe tbody tr th:only-of-type {\n",
       "        vertical-align: middle;\n",
       "    }\n",
       "\n",
       "    .dataframe tbody tr th {\n",
       "        vertical-align: top;\n",
       "    }\n",
       "\n",
       "    .dataframe thead th {\n",
       "        text-align: right;\n",
       "    }\n",
       "</style>\n",
       "<table border=\"1\" class=\"dataframe\">\n",
       "  <thead>\n",
       "    <tr style=\"text-align: right;\">\n",
       "      <th></th>\n",
       "      <th>cam:ideCadastro</th>\n",
       "      <th>cam:nomeCivil</th>\n",
       "      <th>cam:nomeParlamentarAtual</th>\n",
       "      <th>slp:resource_uri</th>\n",
       "    </tr>\n",
       "  </thead>\n",
       "  <tbody>\n",
       "    <tr>\n",
       "      <th>0</th>\n",
       "      <td>178943</td>\n",
       "      <td>MARCOS BEZERRA RIBEIRO SOARES</td>\n",
       "      <td>MARCOS SOARES</td>\n",
       "      <td>1a2a8c12348380555e510d1e1b6e7de3</td>\n",
       "    </tr>\n",
       "    <tr>\n",
       "      <th>1</th>\n",
       "      <td>178995</td>\n",
       "      <td>ANTONIO ROBERTO RODRIGUES GÓES DA SILVA</td>\n",
       "      <td>ROBERTO GÓES</td>\n",
       "      <td>d756776bc56efce11d2fecee1f4855d0</td>\n",
       "    </tr>\n",
       "    <tr>\n",
       "      <th>2</th>\n",
       "      <td>112437</td>\n",
       "      <td>JOÃO MARCELO SANTOS SOUZA</td>\n",
       "      <td>JOÃO MARCELO SOUZA</td>\n",
       "      <td>de549e980bd660b3b287d5893a2e41a8</td>\n",
       "    </tr>\n",
       "    <tr>\n",
       "      <th>3</th>\n",
       "      <td>160544</td>\n",
       "      <td>JUNJI ABE</td>\n",
       "      <td>JUNJI ABE</td>\n",
       "      <td>955f88ef-358e-46a3-8f8c-a67be902240c</td>\n",
       "    </tr>\n",
       "    <tr>\n",
       "      <th>4</th>\n",
       "      <td>160544</td>\n",
       "      <td>JUNJI ABE</td>\n",
       "      <td>JUNJI ABE</td>\n",
       "      <td>955f88ef-358e-46a3-8f8c-a67be902240c</td>\n",
       "    </tr>\n",
       "  </tbody>\n",
       "</table>\n",
       "</div>"
      ],
      "text/plain": [
       "  cam:ideCadastro                            cam:nomeCivil  \\\n",
       "0          178943            MARCOS BEZERRA RIBEIRO SOARES   \n",
       "1          178995  ANTONIO ROBERTO RODRIGUES GÓES DA SILVA   \n",
       "2          112437                JOÃO MARCELO SANTOS SOUZA   \n",
       "3          160544                                JUNJI ABE   \n",
       "4          160544                                JUNJI ABE   \n",
       "\n",
       "  cam:nomeParlamentarAtual                      slp:resource_uri  \n",
       "0            MARCOS SOARES      1a2a8c12348380555e510d1e1b6e7de3  \n",
       "1             ROBERTO GÓES      d756776bc56efce11d2fecee1f4855d0  \n",
       "2       JOÃO MARCELO SOUZA      de549e980bd660b3b287d5893a2e41a8  \n",
       "3                JUNJI ABE  955f88ef-358e-46a3-8f8c-a67be902240c  \n",
       "4                JUNJI ABE  955f88ef-358e-46a3-8f8c-a67be902240c  "
      ]
     },
     "execution_count": 17,
     "metadata": {},
     "output_type": "execute_result"
    }
   ],
   "source": [
    "mapping = {'skos:prefLabel': 'cam:ideCadastro',\n",
    "  'foaf:name':'cam:nomeCivil',\n",
    "  'rdfs:label':'cam:nomeParlamentarAtual',\n",
    "  'agent_resource_uri':'slp:resource_uri'           \n",
    "}\n",
    "\n",
    "agents = [] \n",
    "for cwm_d in congressmen_with_memberships:\n",
    "    agent_d = {mapping[k]: cwm_d.get(k, None) for k in mapping}\n",
    "    if agent_d:\n",
    "        agents.append(agent_d)\n",
    "\n",
    "filename = 'congressmen-{:}-{:}.csv'.format(PROV, FILE_SUFFIX) \n",
    "file_path = '{:}{:}'.format(AGENTS_PATH, filename)\n",
    "df = pd.DataFrame.from_dict(agents)    \n",
    "df.to_csv(file_path, sep=';', encoding='utf-8', index=None)\n",
    "df.head()"
   ]
  },
  {
   "cell_type": "markdown",
   "metadata": {},
   "source": [
    " # 4.1 Iterates saving memberships to the congress"
   ]
  },
  {
   "cell_type": "code",
   "execution_count": 19,
   "metadata": {},
   "outputs": [
    {
     "name": "stdout",
     "output_type": "stream",
     "text": [
      "2700\n"
     ]
    },
    {
     "data": {
      "text/html": [
       "<div>\n",
       "<style scoped>\n",
       "    .dataframe tbody tr th:only-of-type {\n",
       "        vertical-align: middle;\n",
       "    }\n",
       "\n",
       "    .dataframe tbody tr th {\n",
       "        vertical-align: top;\n",
       "    }\n",
       "\n",
       "    .dataframe thead th {\n",
       "        text-align: right;\n",
       "    }\n",
       "</style>\n",
       "<table border=\"1\" class=\"dataframe\">\n",
       "  <thead>\n",
       "    <tr style=\"text-align: right;\">\n",
       "      <th></th>\n",
       "      <th>cam:dataFim</th>\n",
       "      <th>cam:dataInicio</th>\n",
       "      <th>cam:ideCadastro</th>\n",
       "      <th>cam:siglaUFRepresentacao</th>\n",
       "      <th>org:role</th>\n",
       "      <th>slp:resource_uri</th>\n",
       "    </tr>\n",
       "  </thead>\n",
       "  <tbody>\n",
       "    <tr>\n",
       "      <th>0</th>\n",
       "      <td>None</td>\n",
       "      <td>2015-02-01</td>\n",
       "      <td>None</td>\n",
       "      <td>RJ</td>\n",
       "      <td>b27beba7-ca02-4041-a9e0-1793bcd141fe</td>\n",
       "      <td>e24c70a0-7f31-46af-94f1-faa0e8dc05fa</td>\n",
       "    </tr>\n",
       "    <tr>\n",
       "      <th>1</th>\n",
       "      <td>None</td>\n",
       "      <td>2015-02-01</td>\n",
       "      <td>None</td>\n",
       "      <td>AP</td>\n",
       "      <td>b27beba7-ca02-4041-a9e0-1793bcd141fe</td>\n",
       "      <td>fe1e6247-f350-4072-a3c0-25313737ba48</td>\n",
       "    </tr>\n",
       "    <tr>\n",
       "      <th>2</th>\n",
       "      <td>None</td>\n",
       "      <td>2015-02-01</td>\n",
       "      <td>None</td>\n",
       "      <td>MA</td>\n",
       "      <td>b27beba7-ca02-4041-a9e0-1793bcd141fe</td>\n",
       "      <td>2e998dda-f39b-463d-95a5-83725fde42f2</td>\n",
       "    </tr>\n",
       "    <tr>\n",
       "      <th>3</th>\n",
       "      <td>2015-01-31</td>\n",
       "      <td>2011-02-01</td>\n",
       "      <td>None</td>\n",
       "      <td>SP</td>\n",
       "      <td>b27beba7-ca02-4041-a9e0-1793bcd141fe</td>\n",
       "      <td>3d3daf3b-106c-420c-b2a7-971bb73dd974</td>\n",
       "    </tr>\n",
       "    <tr>\n",
       "      <th>4</th>\n",
       "      <td>2015-01-31</td>\n",
       "      <td>2011-02-01</td>\n",
       "      <td>None</td>\n",
       "      <td>SP</td>\n",
       "      <td>b27beba7-ca02-4041-a9e0-1793bcd141fe</td>\n",
       "      <td>3d3daf3b-106c-420c-b2a7-971bb73dd974</td>\n",
       "    </tr>\n",
       "  </tbody>\n",
       "</table>\n",
       "</div>"
      ],
      "text/plain": [
       "  cam:dataFim cam:dataInicio cam:ideCadastro cam:siglaUFRepresentacao  \\\n",
       "0        None     2015-02-01            None                       RJ   \n",
       "1        None     2015-02-01            None                       AP   \n",
       "2        None     2015-02-01            None                       MA   \n",
       "3  2015-01-31     2011-02-01            None                       SP   \n",
       "4  2015-01-31     2011-02-01            None                       SP   \n",
       "\n",
       "                               org:role                      slp:resource_uri  \n",
       "0  b27beba7-ca02-4041-a9e0-1793bcd141fe  e24c70a0-7f31-46af-94f1-faa0e8dc05fa  \n",
       "1  b27beba7-ca02-4041-a9e0-1793bcd141fe  fe1e6247-f350-4072-a3c0-25313737ba48  \n",
       "2  b27beba7-ca02-4041-a9e0-1793bcd141fe  2e998dda-f39b-463d-95a5-83725fde42f2  \n",
       "3  b27beba7-ca02-4041-a9e0-1793bcd141fe  3d3daf3b-106c-420c-b2a7-971bb73dd974  \n",
       "4  b27beba7-ca02-4041-a9e0-1793bcd141fe  3d3daf3b-106c-420c-b2a7-971bb73dd974  "
      ]
     },
     "execution_count": 19,
     "metadata": {},
     "output_type": "execute_result"
    }
   ],
   "source": [
    "mapping = {\n",
    "    'skos:prefLabel': 'cam:ideCadastro',\n",
    "    'natureza': 'cam:siglaUFRepresentacao',\n",
    "    'startDate': 'cam:dataInicio', \n",
    "    'finishDate': 'cam:dataFim',\n",
    "    'membership_resource_uri':'slp:resource_uri',\n",
    "    'role_resource_uri':'org:role'\n",
    "}\n",
    "\n",
    "memberships = [] \n",
    "for cwm_d in congressmen_with_memberships:\n",
    "    terms = cwm_d['terms']\n",
    "    if terms:\n",
    "        for term_d in terms:\n",
    "            memberships_d = {mapping[k]: term_d.get(k, None) for k in mapping}\n",
    "            if memberships_d:\n",
    "                memberships.append(memberships_d)\n",
    "\n",
    "\n",
    "filename = 'memberships_with_congress-{:}-{:}.csv'.format(PROV, FILE_SUFFIX) \n",
    "file_path = '{:}{:}'.format(MEMBERSHIPS_PATH, filename)\n",
    "df = pd.DataFrame.from_dict(memberships)    \n",
    "# df.to_csv(file_path, sep=';', encoding='utf-8', index=None)\n",
    "print(df.shape[0])\n",
    "df.head()            "
   ]
  },
  {
   "cell_type": "code",
   "execution_count": null,
   "metadata": {
    "collapsed": true
   },
   "outputs": [],
   "source": []
  }
 ],
 "metadata": {
  "kernelspec": {
   "display_name": "Python 3",
   "language": "python",
   "name": "python3"
  },
  "language_info": {
   "codemirror_mode": {
    "name": "ipython",
    "version": 3
   },
   "file_extension": ".py",
   "mimetype": "text/x-python",
   "name": "python",
   "nbconvert_exporter": "python",
   "pygments_lexer": "ipython3",
   "version": "3.6.3"
  }
 },
 "nbformat": 4,
 "nbformat_minor": 2
}
