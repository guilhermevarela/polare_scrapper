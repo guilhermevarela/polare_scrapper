{
 "cells": [
  {
   "cell_type": "markdown",
   "metadata": {},
   "source": [
    "# Congressmen notebook\n",
    "\n",
    "Parses datasets/camara/congressmen_with_memberships.json creating / updating the following polare entites:\n",
    "* Agents\n",
    "* Memberships (Congress, Parties)\n",
    "* Organizations (Camara)\n",
    "* Posts (Camara)\n",
    "* Roles (Afiliado, Deputado)"
   ]
  },
  {
   "cell_type": "markdown",
   "metadata": {},
   "source": [
    " ## 1. Imports and Constants Declaration"
   ]
  },
  {
   "cell_type": "code",
   "execution_count": 1,
   "metadata": {
    "collapsed": true
   },
   "outputs": [],
   "source": [
    "import json \n",
    "import pandas as pd\n",
    "from collections import deque, defaultdict\n",
    "from uuid import uuid4\n",
    "\n",
    "from datetime import datetime\n",
    "import matplotlib.pyplot as plt\n",
    "\n",
    "termid = 55 # legislatura\n",
    "start_date = '2015-01-02'\n",
    "\n",
    "PROV = 'cam'\n",
    "JSON_PATH =  'datasets/camara/'\n",
    "FILE_SUFFIX = termid\n",
    "SUB_DIR = '{:}/'.format(termid)\n",
    "\n",
    "AGENTS_PATH = 'datasets/slp/agents/'\n",
    "MEMBERSHIPS_PATH = 'datasets/slp/memberships/'\n",
    "ORGANIZATIONS_PATH = 'datasets/slp/organizations/'\n",
    "ROLES_PATH = 'datasets/slp/roles/'\n",
    "POSTS_PATH = 'datasets/slp/posts/'\n",
    "\n",
    "\n",
    "\n",
    "CAMARA_URI = 'c8f660fd-7d0b-48e5-8513-2f7f0bb5f91c' \n"
   ]
  },
  {
   "cell_type": "markdown",
   "metadata": {},
   "source": [
    " ## 2. Getting the Parties"
   ]
  },
  {
   "cell_type": "code",
   "execution_count": 2,
   "metadata": {},
   "outputs": [
    {
     "name": "stdout",
     "output_type": "stream",
     "text": [
      "{'PT': '7b2138a6-df61-11e7-baf1-c82a144c0a85', 'PMDB': '7b210cfa-df61-11e7-9864-c82a144c0a85', 'DEM': '7b20ed7e-df61-11e7-bb65-c82a144c0a85'}\n"
     ]
    }
   ],
   "source": [
    "filename = 'parties.csv'\n",
    "file_path = '{:}{:}'.format(ORGANIZATIONS_PATH, filename)\n",
    "df_parties = pd.read_csv(file_path, sep= ';', encoding= 'utf-8', index_col=None)\n",
    "df_parties.set_index('sigla', inplace=True)\n",
    "\n",
    "\n",
    "parties_d = df_parties['slp:resource_uri'].to_dict()                        \n",
    "print({k:parties_d[k]\n",
    "    for k in ['PT', 'PMDB', 'DEM']})"
   ]
  },
  {
   "cell_type": "markdown",
   "metadata": {},
   "source": [
    "## 3. Reads scrapped json"
   ]
  },
  {
   "cell_type": "code",
   "execution_count": 3,
   "metadata": {
    "collapsed": true
   },
   "outputs": [],
   "source": [
    "filename = 'congressman_with_memberships-{:}.json'.format(termid) \n",
    "file_path = '{:}{:}'.format(JSON_PATH, filename)\n",
    "with open(file_path, mode='r') as f:\n",
    "    senatorsstr = f.read()\n",
    "f.close()\n",
    "\n",
    "congressmen_with_memberships = json.loads(senatorsstr)"
   ]
  },
  {
   "cell_type": "markdown",
   "metadata": {},
   "source": [
    "## 4. Agents"
   ]
  },
  {
   "cell_type": "code",
   "execution_count": 4,
   "metadata": {},
   "outputs": [
    {
     "name": "stdout",
     "output_type": "stream",
     "text": [
      "found 606 congressmen.\n"
     ]
    },
    {
     "data": {
      "text/html": [
       "<div>\n",
       "<style scoped>\n",
       "    .dataframe tbody tr th:only-of-type {\n",
       "        vertical-align: middle;\n",
       "    }\n",
       "\n",
       "    .dataframe tbody tr th {\n",
       "        vertical-align: top;\n",
       "    }\n",
       "\n",
       "    .dataframe thead th {\n",
       "        text-align: right;\n",
       "    }\n",
       "</style>\n",
       "<table border=\"1\" class=\"dataframe\">\n",
       "  <thead>\n",
       "    <tr style=\"text-align: right;\">\n",
       "      <th></th>\n",
       "      <th>cam:dataFalecimento</th>\n",
       "      <th>cam:dataNascimento</th>\n",
       "      <th>cam:ideCadastro</th>\n",
       "      <th>cam:nomeCivil</th>\n",
       "      <th>cam:nomeParlamentarAtual</th>\n",
       "      <th>slp:resource_uri</th>\n",
       "    </tr>\n",
       "  </thead>\n",
       "  <tbody>\n",
       "    <tr>\n",
       "      <th>0</th>\n",
       "      <td>None</td>\n",
       "      <td>1976-10-23</td>\n",
       "      <td>178836</td>\n",
       "      <td>ALAN RICK MIRANDA</td>\n",
       "      <td>ALAN RICK</td>\n",
       "      <td>64965d06-916a-4ef9-a8c7-886055dc979e</td>\n",
       "    </tr>\n",
       "    <tr>\n",
       "      <th>1</th>\n",
       "      <td>None</td>\n",
       "      <td>1969-02-13</td>\n",
       "      <td>160527</td>\n",
       "      <td>AGUINALDO VELLOSO BORGES RIBEIRO</td>\n",
       "      <td>AGUINALDO RIBEIRO</td>\n",
       "      <td>908bcac7-6fc7-4957-9ae9-00a46ad10a37</td>\n",
       "    </tr>\n",
       "    <tr>\n",
       "      <th>2</th>\n",
       "      <td>None</td>\n",
       "      <td>1987-02-10</td>\n",
       "      <td>160582</td>\n",
       "      <td>JOSÉ ALBERTO OLIVEIRA VELOSO FILHO</td>\n",
       "      <td>ALBERTO FILHO</td>\n",
       "      <td>5ff9cfe9-2fee-47b6-b7ac-a1cb282236be</td>\n",
       "    </tr>\n",
       "    <tr>\n",
       "      <th>3</th>\n",
       "      <td>None</td>\n",
       "      <td>1960-10-15</td>\n",
       "      <td>160508</td>\n",
       "      <td>AFONSO BANDEIRA FLORENCE</td>\n",
       "      <td>AFONSO FLORENCE</td>\n",
       "      <td>e4e93a22-8177-400a-8231-2e8ae9d06a12</td>\n",
       "    </tr>\n",
       "    <tr>\n",
       "      <th>4</th>\n",
       "      <td>None</td>\n",
       "      <td>1956-02-05</td>\n",
       "      <td>178903</td>\n",
       "      <td>ADILTON DOMINGOS SACHETTI</td>\n",
       "      <td>ADILTON SACHETTI</td>\n",
       "      <td>0a39e693-7990-4118-8637-278d778df124</td>\n",
       "    </tr>\n",
       "  </tbody>\n",
       "</table>\n",
       "</div>"
      ],
      "text/plain": [
       "  cam:dataFalecimento cam:dataNascimento cam:ideCadastro  \\\n",
       "0                None         1976-10-23          178836   \n",
       "1                None         1969-02-13          160527   \n",
       "2                None         1987-02-10          160582   \n",
       "3                None         1960-10-15          160508   \n",
       "4                None         1956-02-05          178903   \n",
       "\n",
       "                        cam:nomeCivil cam:nomeParlamentarAtual  \\\n",
       "0                   ALAN RICK MIRANDA                ALAN RICK   \n",
       "1    AGUINALDO VELLOSO BORGES RIBEIRO        AGUINALDO RIBEIRO   \n",
       "2  JOSÉ ALBERTO OLIVEIRA VELOSO FILHO            ALBERTO FILHO   \n",
       "3            AFONSO BANDEIRA FLORENCE          AFONSO FLORENCE   \n",
       "4           ADILTON DOMINGOS SACHETTI         ADILTON SACHETTI   \n",
       "\n",
       "                       slp:resource_uri  \n",
       "0  64965d06-916a-4ef9-a8c7-886055dc979e  \n",
       "1  908bcac7-6fc7-4957-9ae9-00a46ad10a37  \n",
       "2  5ff9cfe9-2fee-47b6-b7ac-a1cb282236be  \n",
       "3  e4e93a22-8177-400a-8231-2e8ae9d06a12  \n",
       "4  0a39e693-7990-4118-8637-278d778df124  "
      ]
     },
     "execution_count": 4,
     "metadata": {},
     "output_type": "execute_result"
    }
   ],
   "source": [
    "mapping = {\n",
    "  'slp:resource_uri': 'slp:resource_uri',           \n",
    "  'cam:ideCadastro': 'cam:ideCadastro',\n",
    "  'cam:nomeCivil':'cam:nomeCivil',\n",
    "  'cam:nomeParlamentarAtual':'cam:nomeParlamentarAtual',\n",
    "  'cam:dataNascimento': 'cam:dataNascimento',\n",
    "  'cam:dataFalecimento': 'cam:dataFalecimento',\n",
    "}\n",
    "\n",
    "agents = [] \n",
    "for cwm_d in congressmen_with_memberships:\n",
    "    agent_d = {mapping[k]: cwm_d.get(k, None) for k in mapping}\n",
    "    if agent_d:\n",
    "        agents.append(agent_d)\n",
    "\n",
    "filename = 'congressmen-{:}.csv'.format(PROV) \n",
    "file_path = '{:}{:}{:}'.format(AGENTS_PATH, SUB_DIR, filename)\n",
    "df = pd.DataFrame.from_dict(agents)    \n",
    "print('found {:} congressmen.'.format(df.shape[0]))\n",
    "df.to_csv(file_path, sep=';', encoding='utf-8', index=None)\n",
    "df.head()"
   ]
  },
  {
   "cell_type": "markdown",
   "metadata": {},
   "source": [
    " ## 5. Congress Org\n",
    " \n",
    " ### 5.1 Membership Deputy\n",
    "\n",
    " #### 5.1.1 Process"
   ]
  },
  {
   "cell_type": "code",
   "execution_count": 5,
   "metadata": {},
   "outputs": [
    {
     "name": "stdout",
     "output_type": "stream",
     "text": [
      "number of memberships:954\n"
     ]
    },
    {
     "data": {
      "text/html": [
       "<div>\n",
       "<style scoped>\n",
       "    .dataframe tbody tr th:only-of-type {\n",
       "        vertical-align: middle;\n",
       "    }\n",
       "\n",
       "    .dataframe tbody tr th {\n",
       "        vertical-align: top;\n",
       "    }\n",
       "\n",
       "    .dataframe thead th {\n",
       "        text-align: right;\n",
       "    }\n",
       "</style>\n",
       "<table border=\"1\" class=\"dataframe\">\n",
       "  <thead>\n",
       "    <tr style=\"text-align: right;\">\n",
       "      <th></th>\n",
       "      <th>cam:finishDate</th>\n",
       "      <th>cam:siglaUFRepresentacao</th>\n",
       "      <th>cam:startDate</th>\n",
       "      <th>org:member</th>\n",
       "      <th>org:role</th>\n",
       "      <th>slp:resource_uri</th>\n",
       "    </tr>\n",
       "  </thead>\n",
       "  <tbody>\n",
       "    <tr>\n",
       "      <th>0</th>\n",
       "      <td>None</td>\n",
       "      <td>AC</td>\n",
       "      <td>2015-02-01</td>\n",
       "      <td>64965d06-916a-4ef9-a8c7-886055dc979e</td>\n",
       "      <td>22a2ecf6-5f03-4da9-bc89-48319d152403</td>\n",
       "      <td>9589fe93-2270-4940-be3c-706111bf6b69</td>\n",
       "    </tr>\n",
       "    <tr>\n",
       "      <th>1</th>\n",
       "      <td>None</td>\n",
       "      <td>PB</td>\n",
       "      <td>2015-02-01</td>\n",
       "      <td>908bcac7-6fc7-4957-9ae9-00a46ad10a37</td>\n",
       "      <td>dc66ab57-90b8-437b-a29c-aae35cbf2ac1</td>\n",
       "      <td>e896acb8-0da3-4e4a-b235-355c1a01f7cb</td>\n",
       "    </tr>\n",
       "    <tr>\n",
       "      <th>2</th>\n",
       "      <td>None</td>\n",
       "      <td>BA</td>\n",
       "      <td>2015-02-01</td>\n",
       "      <td>e4e93a22-8177-400a-8231-2e8ae9d06a12</td>\n",
       "      <td>467f2a3e-6c7b-4234-9f62-27cf83588db0</td>\n",
       "      <td>30eb6da8-3308-45a0-bfd8-0f6f9884133c</td>\n",
       "    </tr>\n",
       "    <tr>\n",
       "      <th>3</th>\n",
       "      <td>2017-10-30</td>\n",
       "      <td>MT</td>\n",
       "      <td>2015-02-01</td>\n",
       "      <td>0a39e693-7990-4118-8637-278d778df124</td>\n",
       "      <td>c2d4abc4-a53c-439b-92af-a529c9edd339</td>\n",
       "      <td>76e294dc-7b1a-48d5-8f15-6888f59c42d2</td>\n",
       "    </tr>\n",
       "    <tr>\n",
       "      <th>4</th>\n",
       "      <td>None</td>\n",
       "      <td>RS</td>\n",
       "      <td>2015-02-01</td>\n",
       "      <td>abf442cf-ef29-40f6-8929-9a4066570ed2</td>\n",
       "      <td>7f059d97-18e2-4053-8116-43636eab4de2</td>\n",
       "      <td>39df2d4d-6954-4abf-909f-7ab27d22870f</td>\n",
       "    </tr>\n",
       "  </tbody>\n",
       "</table>\n",
       "</div>"
      ],
      "text/plain": [
       "  cam:finishDate cam:siglaUFRepresentacao cam:startDate  \\\n",
       "0           None                       AC    2015-02-01   \n",
       "1           None                       PB    2015-02-01   \n",
       "2           None                       BA    2015-02-01   \n",
       "3     2017-10-30                       MT    2015-02-01   \n",
       "4           None                       RS    2015-02-01   \n",
       "\n",
       "                             org:member                              org:role  \\\n",
       "0  64965d06-916a-4ef9-a8c7-886055dc979e  22a2ecf6-5f03-4da9-bc89-48319d152403   \n",
       "1  908bcac7-6fc7-4957-9ae9-00a46ad10a37  dc66ab57-90b8-437b-a29c-aae35cbf2ac1   \n",
       "2  e4e93a22-8177-400a-8231-2e8ae9d06a12  467f2a3e-6c7b-4234-9f62-27cf83588db0   \n",
       "3  0a39e693-7990-4118-8637-278d778df124  c2d4abc4-a53c-439b-92af-a529c9edd339   \n",
       "4  abf442cf-ef29-40f6-8929-9a4066570ed2  7f059d97-18e2-4053-8116-43636eab4de2   \n",
       "\n",
       "                       slp:resource_uri  \n",
       "0  9589fe93-2270-4940-be3c-706111bf6b69  \n",
       "1  e896acb8-0da3-4e4a-b235-355c1a01f7cb  \n",
       "2  30eb6da8-3308-45a0-bfd8-0f6f9884133c  \n",
       "3  76e294dc-7b1a-48d5-8f15-6888f59c42d2  \n",
       "4  39df2d4d-6954-4abf-909f-7ab27d22870f  "
      ]
     },
     "execution_count": 5,
     "metadata": {},
     "output_type": "execute_result"
    }
   ],
   "source": [
    "mapping = {\n",
    "    'cam:siglaUFRepresentacao': 'cam:siglaUFRepresentacao',\n",
    "    'cam:dataInicio': 'cam:startDate', \n",
    "    'cam:dataFim': 'cam:finishDate',\n",
    "    'slp:resource_uri':'slp:resource_uri'\n",
    "}\n",
    "\n",
    "memberships = [] \n",
    "for cwm_d in congressmen_with_memberships:\n",
    "    member_uri = cwm_d['slp:resource_uri'] \n",
    "    terms = cwm_d['terms']\n",
    "    if terms:\n",
    "        for term_d in terms:\n",
    "            memberships_d = {mapping[k]: term_d.get(k, None) for k in mapping}\n",
    "            if memberships_d:\n",
    "                memberships_d['org:member'] = member_uri\n",
    "                memberships_d['org:role'] = str(uuid4())                \n",
    "                memberships.append(memberships_d)\n",
    "\n",
    "\n",
    "memberships = sorted(memberships, key=lambda x:x['cam:startDate'])\n",
    "df = pd.DataFrame.from_dict(memberships)    \n",
    "print('number of memberships:{:}'.format(df.shape[0]))\n",
    "df.head()            "
   ]
  },
  {
   "cell_type": "markdown",
   "metadata": {},
   "source": [
    "#### 5.1.2 Save"
   ]
  },
  {
   "cell_type": "code",
   "execution_count": 6,
   "metadata": {
    "collapsed": true
   },
   "outputs": [],
   "source": [
    "filename = 'memberships_at_congress-{:}.csv'.format(PROV, FILE_SUFFIX) \n",
    "file_path = '{:}{:}{:}'.format(MEMBERSHIPS_PATH, SUB_DIR, filename)\n",
    "df.to_csv(file_path, sep=';', encoding='utf-8', index=None)"
   ]
  },
  {
   "cell_type": "markdown",
   "metadata": {},
   "source": [
    " ### 5.2 Membership Role\n",
    "\n",
    " #### 5.2.1 Process"
   ]
  },
  {
   "cell_type": "code",
   "execution_count": 7,
   "metadata": {},
   "outputs": [
    {
     "data": {
      "text/html": [
       "<div>\n",
       "<style scoped>\n",
       "    .dataframe tbody tr th:only-of-type {\n",
       "        vertical-align: middle;\n",
       "    }\n",
       "\n",
       "    .dataframe tbody tr th {\n",
       "        vertical-align: top;\n",
       "    }\n",
       "\n",
       "    .dataframe thead th {\n",
       "        text-align: right;\n",
       "    }\n",
       "</style>\n",
       "<table border=\"1\" class=\"dataframe\">\n",
       "  <thead>\n",
       "    <tr style=\"text-align: right;\">\n",
       "      <th></th>\n",
       "      <th>slp:resource_uri</th>\n",
       "      <th>rdfs:label</th>\n",
       "    </tr>\n",
       "  </thead>\n",
       "  <tbody>\n",
       "    <tr>\n",
       "      <th>0</th>\n",
       "      <td>22a2ecf6-5f03-4da9-bc89-48319d152403</td>\n",
       "      <td>Deputy</td>\n",
       "    </tr>\n",
       "    <tr>\n",
       "      <th>1</th>\n",
       "      <td>dc66ab57-90b8-437b-a29c-aae35cbf2ac1</td>\n",
       "      <td>Deputy</td>\n",
       "    </tr>\n",
       "    <tr>\n",
       "      <th>2</th>\n",
       "      <td>467f2a3e-6c7b-4234-9f62-27cf83588db0</td>\n",
       "      <td>Deputy</td>\n",
       "    </tr>\n",
       "    <tr>\n",
       "      <th>3</th>\n",
       "      <td>c2d4abc4-a53c-439b-92af-a529c9edd339</td>\n",
       "      <td>Deputy</td>\n",
       "    </tr>\n",
       "    <tr>\n",
       "      <th>4</th>\n",
       "      <td>7f059d97-18e2-4053-8116-43636eab4de2</td>\n",
       "      <td>Deputy</td>\n",
       "    </tr>\n",
       "  </tbody>\n",
       "</table>\n",
       "</div>"
      ],
      "text/plain": [
       "                       slp:resource_uri rdfs:label\n",
       "0  22a2ecf6-5f03-4da9-bc89-48319d152403     Deputy\n",
       "1  dc66ab57-90b8-437b-a29c-aae35cbf2ac1     Deputy\n",
       "2  467f2a3e-6c7b-4234-9f62-27cf83588db0     Deputy\n",
       "3  c2d4abc4-a53c-439b-92af-a529c9edd339     Deputy\n",
       "4  7f059d97-18e2-4053-8116-43636eab4de2     Deputy"
      ]
     },
     "execution_count": 7,
     "metadata": {},
     "output_type": "execute_result"
    }
   ],
   "source": [
    "df = df['org:role'].to_frame()\n",
    "df = df.rename({'org:role':'slp:resource_uri'}, axis='columns')\n",
    "df['rdfs:label'] = 'Deputy'\n",
    "df.head()"
   ]
  },
  {
   "cell_type": "markdown",
   "metadata": {},
   "source": [
    " #### 5.2.2 Save"
   ]
  },
  {
   "cell_type": "code",
   "execution_count": 8,
   "metadata": {},
   "outputs": [],
   "source": [
    "filename = 'roles_deputy-{:}.csv'.format(PROV, FILE_SUFFIX) \n",
    "file_path = '{:}{:}{:}'.format(ROLES_PATH, SUB_DIR, filename)\n",
    "df.to_csv(file_path, sep=';', encoding='utf-8', index=None)"
   ]
  },
  {
   "cell_type": "markdown",
   "metadata": {},
   "source": [
    " ### 5.3 Post Deputy\n",
    "\n",
    " #### 5.3.1 Preprocess\n",
    "\n",
    "There are currently 513 Posts at Camara. The total should be fixed but in practice it's not. Our first task is to determine the max number of posts and then allocating them accordingly."
   ]
  },
  {
   "cell_type": "code",
   "execution_count": 9,
   "metadata": {},
   "outputs": [
    {
     "name": "stdout",
     "output_type": "stream",
     "text": [
      "Max posts: 520.0\n"
     ]
    },
    {
     "data": {
      "text/html": [
       "<div>\n",
       "<style scoped>\n",
       "    .dataframe tbody tr th:only-of-type {\n",
       "        vertical-align: middle;\n",
       "    }\n",
       "\n",
       "    .dataframe tbody tr th {\n",
       "        vertical-align: top;\n",
       "    }\n",
       "\n",
       "    .dataframe thead th {\n",
       "        text-align: right;\n",
       "    }\n",
       "</style>\n",
       "<table border=\"1\" class=\"dataframe\">\n",
       "  <thead>\n",
       "    <tr style=\"text-align: right;\">\n",
       "      <th></th>\n",
       "      <th>new</th>\n",
       "      <th>expired</th>\n",
       "      <th>total</th>\n",
       "    </tr>\n",
       "    <tr>\n",
       "      <th>time</th>\n",
       "      <th></th>\n",
       "      <th></th>\n",
       "      <th></th>\n",
       "    </tr>\n",
       "  </thead>\n",
       "  <tbody>\n",
       "    <tr>\n",
       "      <th>2015-02-01</th>\n",
       "      <td>517.0</td>\n",
       "      <td>0.0</td>\n",
       "      <td>517.0</td>\n",
       "    </tr>\n",
       "    <tr>\n",
       "      <th>2015-02-02</th>\n",
       "      <td>0.0</td>\n",
       "      <td>4.0</td>\n",
       "      <td>513.0</td>\n",
       "    </tr>\n",
       "    <tr>\n",
       "      <th>2015-02-03</th>\n",
       "      <td>6.0</td>\n",
       "      <td>7.0</td>\n",
       "      <td>512.0</td>\n",
       "    </tr>\n",
       "    <tr>\n",
       "      <th>2015-02-04</th>\n",
       "      <td>8.0</td>\n",
       "      <td>5.0</td>\n",
       "      <td>515.0</td>\n",
       "    </tr>\n",
       "    <tr>\n",
       "      <th>2015-02-05</th>\n",
       "      <td>1.0</td>\n",
       "      <td>3.0</td>\n",
       "      <td>513.0</td>\n",
       "    </tr>\n",
       "  </tbody>\n",
       "</table>\n",
       "</div>"
      ],
      "text/plain": [
       "              new  expired  total\n",
       "time                             \n",
       "2015-02-01  517.0      0.0  517.0\n",
       "2015-02-02    0.0      4.0  513.0\n",
       "2015-02-03    6.0      7.0  512.0\n",
       "2015-02-04    8.0      5.0  515.0\n",
       "2015-02-05    1.0      3.0  513.0"
      ]
     },
     "execution_count": 9,
     "metadata": {},
     "output_type": "execute_result"
    }
   ],
   "source": [
    "memberships = sorted(memberships, key=lambda x:x['cam:startDate'])\n",
    "df = pd.DataFrame.from_dict(memberships)  \n",
    "\n",
    "def cumsum(lis):\n",
    "    total = 0\n",
    "    for x in lis:\n",
    "        total += x\n",
    "        yield total\n",
    "        \n",
    "ts_open = pd.pivot_table(df, index='cam:startDate',aggfunc=len)['cam:finishDate']\n",
    "ts_open.index.names = ['time']\n",
    "ts_open.name = 'new'\n",
    "\n",
    "ts_close = pd.pivot_table(df, index='cam:finishDate',aggfunc=len)['cam:startDate']\n",
    "ts_close.index.names = ['time']\n",
    "ts_close.name = 'expired'\n",
    "\n",
    "df = ts_open.to_frame().join(ts_close.to_frame(), how='outer').fillna(0)\n",
    "df['total'] = list(cumsum(df['new'] - df['expired']))\n",
    "print('Max posts:', max(df['total']))\n",
    "df.head()\n",
    "\n",
    "\n"
   ]
  },
  {
   "cell_type": "markdown",
   "metadata": {},
   "source": [
    " #### 5.3.1 Posts graph"
   ]
  },
  {
   "cell_type": "code",
   "execution_count": 10,
   "metadata": {},
   "outputs": [
    {
     "data": {
      "image/png": "[encoded data removed]",
      "text/plain": [
       "<matplotlib.figure.Figure at 0x118e7ce10>"
      ]
     },
     "metadata": {},
     "output_type": "display_data"
    }
   ],
   "source": [
    "# from datetime import datetime\n",
    "import matplotlib.dates as mdates\n",
    "fig, ax = plt.subplots(figsize=(20, 10))\n",
    "ind = range(df.shape[0])\n",
    "width = 0.35  # the width of the bars\n",
    "fromDate = datetime.strptime(df.index[0], '%Y-%m-%d')\n",
    "toDate = datetime.strptime(df.index[1], '%Y-%m-%d')\n",
    "xticks = [ datetime.strptime(dt, '%Y-%m-%d') for dt in df.index ]\n",
    "\n",
    "rects1 = ax.bar(ind, df['total'].values, width=width, color='SkyBlue')\n",
    "ax.set_ylabel('Num. Congressmen')\n",
    "ax.set_title('Congressmen Posts')\n",
    "ax.set_xticklabels(xticks)\n",
    "plt.ylim([500, 525])\n",
    "plt.show()\n"
   ]
  },
  {
   "cell_type": "markdown",
   "metadata": {
    "collapsed": true
   },
   "source": [
    " #### 5.3.2 Posts allocation\n",
    " \n",
    " We create a queue of posts and allocate them as necessary."
   ]
  },
  {
   "cell_type": "code",
   "execution_count": 11,
   "metadata": {},
   "outputs": [
    {
     "data": {
      "text/html": [
       "<div>\n",
       "<style scoped>\n",
       "    .dataframe tbody tr th:only-of-type {\n",
       "        vertical-align: middle;\n",
       "    }\n",
       "\n",
       "    .dataframe tbody tr th {\n",
       "        vertical-align: top;\n",
       "    }\n",
       "\n",
       "    .dataframe thead th {\n",
       "        text-align: right;\n",
       "    }\n",
       "</style>\n",
       "<table border=\"1\" class=\"dataframe\">\n",
       "  <thead>\n",
       "    <tr style=\"text-align: right;\">\n",
       "      <th></th>\n",
       "      <th>cam:finishDate</th>\n",
       "      <th>cam:siglaUFRepresentacao</th>\n",
       "      <th>cam:startDate</th>\n",
       "      <th>org:member</th>\n",
       "      <th>org:post</th>\n",
       "      <th>org:role</th>\n",
       "      <th>slp:resource_uri</th>\n",
       "    </tr>\n",
       "  </thead>\n",
       "  <tbody>\n",
       "    <tr>\n",
       "      <th>0</th>\n",
       "      <td>None</td>\n",
       "      <td>AC</td>\n",
       "      <td>2015-02-01</td>\n",
       "      <td>64965d06-916a-4ef9-a8c7-886055dc979e</td>\n",
       "      <td>35c01901-2cca-4d0f-b244-dd7cf2157137</td>\n",
       "      <td>22a2ecf6-5f03-4da9-bc89-48319d152403</td>\n",
       "      <td>9589fe93-2270-4940-be3c-706111bf6b69</td>\n",
       "    </tr>\n",
       "    <tr>\n",
       "      <th>1</th>\n",
       "      <td>None</td>\n",
       "      <td>PB</td>\n",
       "      <td>2015-02-01</td>\n",
       "      <td>908bcac7-6fc7-4957-9ae9-00a46ad10a37</td>\n",
       "      <td>bfd204ea-f6e1-4e95-878f-e446c2a901fc</td>\n",
       "      <td>dc66ab57-90b8-437b-a29c-aae35cbf2ac1</td>\n",
       "      <td>e896acb8-0da3-4e4a-b235-355c1a01f7cb</td>\n",
       "    </tr>\n",
       "    <tr>\n",
       "      <th>2</th>\n",
       "      <td>None</td>\n",
       "      <td>BA</td>\n",
       "      <td>2015-02-01</td>\n",
       "      <td>e4e93a22-8177-400a-8231-2e8ae9d06a12</td>\n",
       "      <td>4505615a-02e5-4dd1-8ed4-81e79de0ea54</td>\n",
       "      <td>467f2a3e-6c7b-4234-9f62-27cf83588db0</td>\n",
       "      <td>30eb6da8-3308-45a0-bfd8-0f6f9884133c</td>\n",
       "    </tr>\n",
       "    <tr>\n",
       "      <th>3</th>\n",
       "      <td>2017-10-30</td>\n",
       "      <td>MT</td>\n",
       "      <td>2015-02-01</td>\n",
       "      <td>0a39e693-7990-4118-8637-278d778df124</td>\n",
       "      <td>ad073298-7f8a-4977-a306-54ee3b3cb906</td>\n",
       "      <td>c2d4abc4-a53c-439b-92af-a529c9edd339</td>\n",
       "      <td>76e294dc-7b1a-48d5-8f15-6888f59c42d2</td>\n",
       "    </tr>\n",
       "    <tr>\n",
       "      <th>4</th>\n",
       "      <td>None</td>\n",
       "      <td>RS</td>\n",
       "      <td>2015-02-01</td>\n",
       "      <td>abf442cf-ef29-40f6-8929-9a4066570ed2</td>\n",
       "      <td>c98664fd-a4f8-46b0-a198-be4deff2f62a</td>\n",
       "      <td>7f059d97-18e2-4053-8116-43636eab4de2</td>\n",
       "      <td>39df2d4d-6954-4abf-909f-7ab27d22870f</td>\n",
       "    </tr>\n",
       "  </tbody>\n",
       "</table>\n",
       "</div>"
      ],
      "text/plain": [
       "  cam:finishDate cam:siglaUFRepresentacao cam:startDate  \\\n",
       "0           None                       AC    2015-02-01   \n",
       "1           None                       PB    2015-02-01   \n",
       "2           None                       BA    2015-02-01   \n",
       "3     2017-10-30                       MT    2015-02-01   \n",
       "4           None                       RS    2015-02-01   \n",
       "\n",
       "                             org:member                              org:post  \\\n",
       "0  64965d06-916a-4ef9-a8c7-886055dc979e  35c01901-2cca-4d0f-b244-dd7cf2157137   \n",
       "1  908bcac7-6fc7-4957-9ae9-00a46ad10a37  bfd204ea-f6e1-4e95-878f-e446c2a901fc   \n",
       "2  e4e93a22-8177-400a-8231-2e8ae9d06a12  4505615a-02e5-4dd1-8ed4-81e79de0ea54   \n",
       "3  0a39e693-7990-4118-8637-278d778df124  ad073298-7f8a-4977-a306-54ee3b3cb906   \n",
       "4  abf442cf-ef29-40f6-8929-9a4066570ed2  c98664fd-a4f8-46b0-a198-be4deff2f62a   \n",
       "\n",
       "                               org:role                      slp:resource_uri  \n",
       "0  22a2ecf6-5f03-4da9-bc89-48319d152403  9589fe93-2270-4940-be3c-706111bf6b69  \n",
       "1  dc66ab57-90b8-437b-a29c-aae35cbf2ac1  e896acb8-0da3-4e4a-b235-355c1a01f7cb  \n",
       "2  467f2a3e-6c7b-4234-9f62-27cf83588db0  30eb6da8-3308-45a0-bfd8-0f6f9884133c  \n",
       "3  c2d4abc4-a53c-439b-92af-a529c9edd339  76e294dc-7b1a-48d5-8f15-6888f59c42d2  \n",
       "4  7f059d97-18e2-4053-8116-43636eab4de2  39df2d4d-6954-4abf-909f-7ab27d22870f  "
      ]
     },
     "execution_count": 11,
     "metadata": {},
     "output_type": "execute_result"
    }
   ],
   "source": [
    "maxlen= int(max(df['total']))\n",
    "posts = deque([str(uuid4()) for _ in range(maxlen)], maxlen=maxlen)\n",
    "posts_expired = defaultdict(deque)\n",
    "\n",
    "# Sort by dataInicio \n",
    "memberships = sorted(memberships, key=lambda x:x['cam:startDate'])\n",
    "dates = df.index.tolist()\n",
    "prevdate = '1800-01-01'\n",
    "for d in memberships:\n",
    "    start = d['cam:startDate']\n",
    "    finish = d['cam:finishDate']\n",
    "    # either the start date is in posts_expired\n",
    "    # or some posts have become available\n",
    "    processdates = [date for date in dates \n",
    "                         if date >= prevdate and date <= start]        \n",
    "    for procdate in processdates:\n",
    "        if procdate in posts_expired:\n",
    "            try:\n",
    "                # pops from expired until empty\n",
    "                while True:      \n",
    "                    post_uri = posts_expired[procdate].pop()\n",
    "                    posts.append(post_uri)\n",
    "            except IndexError: \n",
    "                i=0\n",
    "    \n",
    "    post_uri = posts.pop()\n",
    "    d['org:post'] = str(uuid4())\n",
    "    if finish: # push for a future date        \n",
    "        posts_expired[finish].append(d['org:post'])\n",
    "    prevdate = start\n",
    "\n",
    "\n",
    "df = pd.DataFrame.from_dict(memberships)    \n",
    "df.head()"
   ]
  },
  {
   "cell_type": "markdown",
   "metadata": {},
   "source": [
    " #### 5.3.3 Posts unique"
   ]
  },
  {
   "cell_type": "code",
   "execution_count": 12,
   "metadata": {},
   "outputs": [
    {
     "name": "stdout",
     "output_type": "stream",
     "text": [
      "Roles and Posts unique tuples: 954\n"
     ]
    },
    {
     "data": {
      "text/html": [
       "<div>\n",
       "<style scoped>\n",
       "    .dataframe tbody tr th:only-of-type {\n",
       "        vertical-align: middle;\n",
       "    }\n",
       "\n",
       "    .dataframe tbody tr th {\n",
       "        vertical-align: top;\n",
       "    }\n",
       "\n",
       "    .dataframe thead th {\n",
       "        text-align: right;\n",
       "    }\n",
       "</style>\n",
       "<table border=\"1\" class=\"dataframe\">\n",
       "  <thead>\n",
       "    <tr style=\"text-align: right;\">\n",
       "      <th></th>\n",
       "      <th>slp:resource_uri</th>\n",
       "      <th>org:role</th>\n",
       "      <th>org:postIn</th>\n",
       "    </tr>\n",
       "  </thead>\n",
       "  <tbody>\n",
       "    <tr>\n",
       "      <th>0</th>\n",
       "      <td>35c01901-2cca-4d0f-b244-dd7cf2157137</td>\n",
       "      <td>22a2ecf6-5f03-4da9-bc89-48319d152403</td>\n",
       "      <td>c8f660fd-7d0b-48e5-8513-2f7f0bb5f91c</td>\n",
       "    </tr>\n",
       "    <tr>\n",
       "      <th>1</th>\n",
       "      <td>bfd204ea-f6e1-4e95-878f-e446c2a901fc</td>\n",
       "      <td>dc66ab57-90b8-437b-a29c-aae35cbf2ac1</td>\n",
       "      <td>c8f660fd-7d0b-48e5-8513-2f7f0bb5f91c</td>\n",
       "    </tr>\n",
       "    <tr>\n",
       "      <th>2</th>\n",
       "      <td>4505615a-02e5-4dd1-8ed4-81e79de0ea54</td>\n",
       "      <td>467f2a3e-6c7b-4234-9f62-27cf83588db0</td>\n",
       "      <td>c8f660fd-7d0b-48e5-8513-2f7f0bb5f91c</td>\n",
       "    </tr>\n",
       "    <tr>\n",
       "      <th>3</th>\n",
       "      <td>ad073298-7f8a-4977-a306-54ee3b3cb906</td>\n",
       "      <td>c2d4abc4-a53c-439b-92af-a529c9edd339</td>\n",
       "      <td>c8f660fd-7d0b-48e5-8513-2f7f0bb5f91c</td>\n",
       "    </tr>\n",
       "    <tr>\n",
       "      <th>4</th>\n",
       "      <td>c98664fd-a4f8-46b0-a198-be4deff2f62a</td>\n",
       "      <td>7f059d97-18e2-4053-8116-43636eab4de2</td>\n",
       "      <td>c8f660fd-7d0b-48e5-8513-2f7f0bb5f91c</td>\n",
       "    </tr>\n",
       "  </tbody>\n",
       "</table>\n",
       "</div>"
      ],
      "text/plain": [
       "                       slp:resource_uri                              org:role  \\\n",
       "0  35c01901-2cca-4d0f-b244-dd7cf2157137  22a2ecf6-5f03-4da9-bc89-48319d152403   \n",
       "1  bfd204ea-f6e1-4e95-878f-e446c2a901fc  dc66ab57-90b8-437b-a29c-aae35cbf2ac1   \n",
       "2  4505615a-02e5-4dd1-8ed4-81e79de0ea54  467f2a3e-6c7b-4234-9f62-27cf83588db0   \n",
       "3  ad073298-7f8a-4977-a306-54ee3b3cb906  c2d4abc4-a53c-439b-92af-a529c9edd339   \n",
       "4  c98664fd-a4f8-46b0-a198-be4deff2f62a  7f059d97-18e2-4053-8116-43636eab4de2   \n",
       "\n",
       "                             org:postIn  \n",
       "0  c8f660fd-7d0b-48e5-8513-2f7f0bb5f91c  \n",
       "1  c8f660fd-7d0b-48e5-8513-2f7f0bb5f91c  \n",
       "2  c8f660fd-7d0b-48e5-8513-2f7f0bb5f91c  \n",
       "3  c8f660fd-7d0b-48e5-8513-2f7f0bb5f91c  \n",
       "4  c8f660fd-7d0b-48e5-8513-2f7f0bb5f91c  "
      ]
     },
     "execution_count": 12,
     "metadata": {},
     "output_type": "execute_result"
    }
   ],
   "source": [
    "df = df[['org:post','org:role']] \n",
    "df.drop_duplicates(subset=['org:post','org:role'], keep='first', inplace=True)\n",
    "df = df.rename({'org:post':'slp:resource_uri'}, axis='columns')\n",
    "df['org:postIn'] = CAMARA_URI\n",
    "print('Roles and Posts unique tuples:', df.shape[0])\n",
    "\n",
    "df.head()"
   ]
  },
  {
   "cell_type": "markdown",
   "metadata": {},
   "source": [
    " #### 5.3.3  Congress Posts Save"
   ]
  },
  {
   "cell_type": "code",
   "execution_count": 13,
   "metadata": {
    "collapsed": true
   },
   "outputs": [],
   "source": [
    "filename = 'posts_at_congress-{:}.csv'.format(PROV) \n",
    "file_path = '{:}{:}{:}'.format(POSTS_PATH, SUB_DIR, filename)\n",
    "df.to_csv(file_path, sep=';', encoding='utf-8', index=None)"
   ]
  },
  {
   "cell_type": "markdown",
   "metadata": {},
   "source": [
    " ## 6. Party Org\n",
    "\n",
    " ### 6.1 Membership Affiliation\n",
    " \n",
    " ### 6.1.1 Process"
   ]
  },
  {
   "cell_type": "code",
   "execution_count": 14,
   "metadata": {},
   "outputs": [
    {
     "data": {
      "text/html": [
       "<div>\n",
       "<style scoped>\n",
       "    .dataframe tbody tr th:only-of-type {\n",
       "        vertical-align: middle;\n",
       "    }\n",
       "\n",
       "    .dataframe tbody tr th {\n",
       "        vertical-align: top;\n",
       "    }\n",
       "\n",
       "    .dataframe thead th {\n",
       "        text-align: right;\n",
       "    }\n",
       "</style>\n",
       "<table border=\"1\" class=\"dataframe\">\n",
       "  <thead>\n",
       "    <tr style=\"text-align: right;\">\n",
       "      <th></th>\n",
       "      <th>cam:finishDate</th>\n",
       "      <th>cam:sigla</th>\n",
       "      <th>cam:startDate</th>\n",
       "      <th>org:member</th>\n",
       "      <th>org:role</th>\n",
       "      <th>slp:resource_uri</th>\n",
       "    </tr>\n",
       "  </thead>\n",
       "  <tbody>\n",
       "    <tr>\n",
       "      <th>0</th>\n",
       "      <td>None</td>\n",
       "      <td>PRB</td>\n",
       "      <td>None</td>\n",
       "      <td>64965d06-916a-4ef9-a8c7-886055dc979e</td>\n",
       "      <td>6a688541-b16a-45ca-8aa9-fa700373279f</td>\n",
       "      <td>fe42e2cd-dfab-43be-be18-cb88180637fe</td>\n",
       "    </tr>\n",
       "    <tr>\n",
       "      <th>1</th>\n",
       "      <td>None</td>\n",
       "      <td>DEM</td>\n",
       "      <td>None</td>\n",
       "      <td>64965d06-916a-4ef9-a8c7-886055dc979e</td>\n",
       "      <td>0661f295-d9de-4230-8d2a-d1074e12dd7d</td>\n",
       "      <td>db643c02-6940-41c0-b668-fee9d4ae20b4</td>\n",
       "    </tr>\n",
       "    <tr>\n",
       "      <th>2</th>\n",
       "      <td>None</td>\n",
       "      <td>PP</td>\n",
       "      <td>None</td>\n",
       "      <td>908bcac7-6fc7-4957-9ae9-00a46ad10a37</td>\n",
       "      <td>780f42ab-09be-4803-859d-cdf0d5c8e079</td>\n",
       "      <td>f5193800-cd60-453b-b9c2-add0ec7f27d3</td>\n",
       "    </tr>\n",
       "    <tr>\n",
       "      <th>3</th>\n",
       "      <td>None</td>\n",
       "      <td>PMDB</td>\n",
       "      <td>None</td>\n",
       "      <td>5ff9cfe9-2fee-47b6-b7ac-a1cb282236be</td>\n",
       "      <td>7156ae83-171d-4d8c-877e-c9a1518e5651</td>\n",
       "      <td>e6279cfe-789b-49c5-959a-49f14bea2571</td>\n",
       "    </tr>\n",
       "    <tr>\n",
       "      <th>4</th>\n",
       "      <td>None</td>\n",
       "      <td>PT</td>\n",
       "      <td>None</td>\n",
       "      <td>e4e93a22-8177-400a-8231-2e8ae9d06a12</td>\n",
       "      <td>f3d85b78-f9da-46de-bdd3-afa8aecd6619</td>\n",
       "      <td>3bc84a72-bbf1-4cda-8833-7e94d7c8b234</td>\n",
       "    </tr>\n",
       "  </tbody>\n",
       "</table>\n",
       "</div>"
      ],
      "text/plain": [
       "  cam:finishDate cam:sigla cam:startDate  \\\n",
       "0           None       PRB          None   \n",
       "1           None       DEM          None   \n",
       "2           None        PP          None   \n",
       "3           None      PMDB          None   \n",
       "4           None        PT          None   \n",
       "\n",
       "                             org:member                              org:role  \\\n",
       "0  64965d06-916a-4ef9-a8c7-886055dc979e  6a688541-b16a-45ca-8aa9-fa700373279f   \n",
       "1  64965d06-916a-4ef9-a8c7-886055dc979e  0661f295-d9de-4230-8d2a-d1074e12dd7d   \n",
       "2  908bcac7-6fc7-4957-9ae9-00a46ad10a37  780f42ab-09be-4803-859d-cdf0d5c8e079   \n",
       "3  5ff9cfe9-2fee-47b6-b7ac-a1cb282236be  7156ae83-171d-4d8c-877e-c9a1518e5651   \n",
       "4  e4e93a22-8177-400a-8231-2e8ae9d06a12  f3d85b78-f9da-46de-bdd3-afa8aecd6619   \n",
       "\n",
       "                       slp:resource_uri  \n",
       "0  fe42e2cd-dfab-43be-be18-cb88180637fe  \n",
       "1  db643c02-6940-41c0-b668-fee9d4ae20b4  \n",
       "2  f5193800-cd60-453b-b9c2-add0ec7f27d3  \n",
       "3  e6279cfe-789b-49c5-959a-49f14bea2571  \n",
       "4  3bc84a72-bbf1-4cda-8833-7e94d7c8b234  "
      ]
     },
     "execution_count": 14,
     "metadata": {},
     "output_type": "execute_result"
    }
   ],
   "source": [
    "mapping = {\n",
    "    'cam:sigla': 'cam:sigla',\n",
    "    'cam:dataInicio': 'cam:startDate', \n",
    "    'cam:dataFim': 'cam:finishDate',\n",
    "    'slp:resource_uri':'slp:resource_uri'\n",
    "}\n",
    "\n",
    "memberships = [] \n",
    "for cwm_d in congressmen_with_memberships:\n",
    "    member_uri = cwm_d['slp:resource_uri'] \n",
    "    affiliations = cwm_d['affiliations']\n",
    "    if affiliations:\n",
    "        for affiliation_d in affiliations:\n",
    "            memberships_d = {mapping[k]: affiliation_d.get(k, None) for k in mapping}\n",
    "            if memberships_d:\n",
    "                memberships_d['org:member'] = member_uri\n",
    "                memberships_d['org:role'] = str(uuid4())\n",
    "                memberships.append(memberships_d)\n",
    "\n",
    "\n",
    "df = pd.DataFrame.from_dict(memberships)   \n",
    "df.head()"
   ]
  },
  {
   "cell_type": "markdown",
   "metadata": {},
   "source": [
    " ### 6.1.2 Save"
   ]
  },
  {
   "cell_type": "code",
   "execution_count": 15,
   "metadata": {
    "collapsed": true
   },
   "outputs": [],
   "source": [
    "filename = 'memberships_at_parties-{:}.csv'.format(PROV) \n",
    "file_path = '{:}{:}{:}'.format(MEMBERSHIPS_PATH, SUB_DIR, filename)\n",
    "df.to_csv(file_path, sep=';', encoding='utf-8', index=None)"
   ]
  },
  {
   "cell_type": "markdown",
   "metadata": {},
   "source": [
    "### 6.2 Roles Affiliation\n",
    "\n",
    "#### 6.2.1 Process"
   ]
  },
  {
   "cell_type": "code",
   "execution_count": 16,
   "metadata": {},
   "outputs": [
    {
     "data": {
      "text/html": [
       "<div>\n",
       "<style scoped>\n",
       "    .dataframe tbody tr th:only-of-type {\n",
       "        vertical-align: middle;\n",
       "    }\n",
       "\n",
       "    .dataframe tbody tr th {\n",
       "        vertical-align: top;\n",
       "    }\n",
       "\n",
       "    .dataframe thead th {\n",
       "        text-align: right;\n",
       "    }\n",
       "</style>\n",
       "<table border=\"1\" class=\"dataframe\">\n",
       "  <thead>\n",
       "    <tr style=\"text-align: right;\">\n",
       "      <th></th>\n",
       "      <th>slp:resource_uri</th>\n",
       "      <th>rdfs:label</th>\n",
       "    </tr>\n",
       "  </thead>\n",
       "  <tbody>\n",
       "    <tr>\n",
       "      <th>0</th>\n",
       "      <td>6a688541-b16a-45ca-8aa9-fa700373279f</td>\n",
       "      <td>Affiliate</td>\n",
       "    </tr>\n",
       "    <tr>\n",
       "      <th>1</th>\n",
       "      <td>0661f295-d9de-4230-8d2a-d1074e12dd7d</td>\n",
       "      <td>Affiliate</td>\n",
       "    </tr>\n",
       "    <tr>\n",
       "      <th>2</th>\n",
       "      <td>780f42ab-09be-4803-859d-cdf0d5c8e079</td>\n",
       "      <td>Affiliate</td>\n",
       "    </tr>\n",
       "    <tr>\n",
       "      <th>3</th>\n",
       "      <td>7156ae83-171d-4d8c-877e-c9a1518e5651</td>\n",
       "      <td>Affiliate</td>\n",
       "    </tr>\n",
       "    <tr>\n",
       "      <th>4</th>\n",
       "      <td>f3d85b78-f9da-46de-bdd3-afa8aecd6619</td>\n",
       "      <td>Affiliate</td>\n",
       "    </tr>\n",
       "  </tbody>\n",
       "</table>\n",
       "</div>"
      ],
      "text/plain": [
       "                       slp:resource_uri rdfs:label\n",
       "0  6a688541-b16a-45ca-8aa9-fa700373279f  Affiliate\n",
       "1  0661f295-d9de-4230-8d2a-d1074e12dd7d  Affiliate\n",
       "2  780f42ab-09be-4803-859d-cdf0d5c8e079  Affiliate\n",
       "3  7156ae83-171d-4d8c-877e-c9a1518e5651  Affiliate\n",
       "4  f3d85b78-f9da-46de-bdd3-afa8aecd6619  Affiliate"
      ]
     },
     "execution_count": 16,
     "metadata": {},
     "output_type": "execute_result"
    }
   ],
   "source": [
    "df = df['org:role'].to_frame()\n",
    "df = df.rename({'org:role':'slp:resource_uri'}, axis='columns')\n",
    "df['rdfs:label'] = 'Affiliate'\n",
    "df.head()"
   ]
  },
  {
   "cell_type": "markdown",
   "metadata": {},
   "source": [
    "#### 6.2.2 Save"
   ]
  },
  {
   "cell_type": "code",
   "execution_count": 17,
   "metadata": {
    "collapsed": true
   },
   "outputs": [],
   "source": [
    "filename = 'roles_affiliate-{:}.csv'.format(PROV, FILE_SUFFIX) \n",
    "file_path = '{:}{:}{:}'.format(ROLES_PATH, SUB_DIR, filename)\n",
    "df.to_csv(file_path, sep=';', encoding='utf-8', index=None)"
   ]
  },
  {
   "cell_type": "markdown",
   "metadata": {},
   "source": [
    "### 6.3 Posts at Parties\n",
    "\n",
    "#### 6.3.1 Process"
   ]
  },
  {
   "cell_type": "code",
   "execution_count": 18,
   "metadata": {},
   "outputs": [
    {
     "data": {
      "text/html": [
       "<div>\n",
       "<style scoped>\n",
       "    .dataframe tbody tr th:only-of-type {\n",
       "        vertical-align: middle;\n",
       "    }\n",
       "\n",
       "    .dataframe tbody tr th {\n",
       "        vertical-align: top;\n",
       "    }\n",
       "\n",
       "    .dataframe thead th {\n",
       "        text-align: right;\n",
       "    }\n",
       "</style>\n",
       "<table border=\"1\" class=\"dataframe\">\n",
       "  <thead>\n",
       "    <tr style=\"text-align: right;\">\n",
       "      <th></th>\n",
       "      <th>org:role</th>\n",
       "      <th>slp:resource_uri</th>\n",
       "      <th>org:postIn</th>\n",
       "    </tr>\n",
       "  </thead>\n",
       "  <tbody>\n",
       "    <tr>\n",
       "      <th>0</th>\n",
       "      <td>6a688541-b16a-45ca-8aa9-fa700373279f</td>\n",
       "      <td>b53fdc09-dd9b-4f79-aa93-57a3f112d2aa</td>\n",
       "      <td>7b211b34-df61-11e7-b235-c82a144c0a85</td>\n",
       "    </tr>\n",
       "    <tr>\n",
       "      <th>1</th>\n",
       "      <td>0661f295-d9de-4230-8d2a-d1074e12dd7d</td>\n",
       "      <td>358b6dad-5e6d-4ad2-9082-e21fda730565</td>\n",
       "      <td>7b20ed7e-df61-11e7-bb65-c82a144c0a85</td>\n",
       "    </tr>\n",
       "    <tr>\n",
       "      <th>2</th>\n",
       "      <td>780f42ab-09be-4803-859d-cdf0d5c8e079</td>\n",
       "      <td>1256ba3f-32d2-48da-a423-2f9289e4cebf</td>\n",
       "      <td>7b21152e-df61-11e7-bdcf-c82a144c0a85</td>\n",
       "    </tr>\n",
       "    <tr>\n",
       "      <th>3</th>\n",
       "      <td>7156ae83-171d-4d8c-877e-c9a1518e5651</td>\n",
       "      <td>69ed832b-bfab-435f-a86e-4649897bb9ae</td>\n",
       "      <td>7b210cfa-df61-11e7-9864-c82a144c0a85</td>\n",
       "    </tr>\n",
       "    <tr>\n",
       "      <th>4</th>\n",
       "      <td>f3d85b78-f9da-46de-bdd3-afa8aecd6619</td>\n",
       "      <td>d8fddf27-7265-4fd8-8e48-5cfd073650b7</td>\n",
       "      <td>7b2138a6-df61-11e7-baf1-c82a144c0a85</td>\n",
       "    </tr>\n",
       "  </tbody>\n",
       "</table>\n",
       "</div>"
      ],
      "text/plain": [
       "                               org:role                      slp:resource_uri  \\\n",
       "0  6a688541-b16a-45ca-8aa9-fa700373279f  b53fdc09-dd9b-4f79-aa93-57a3f112d2aa   \n",
       "1  0661f295-d9de-4230-8d2a-d1074e12dd7d  358b6dad-5e6d-4ad2-9082-e21fda730565   \n",
       "2  780f42ab-09be-4803-859d-cdf0d5c8e079  1256ba3f-32d2-48da-a423-2f9289e4cebf   \n",
       "3  7156ae83-171d-4d8c-877e-c9a1518e5651  69ed832b-bfab-435f-a86e-4649897bb9ae   \n",
       "4  f3d85b78-f9da-46de-bdd3-afa8aecd6619  d8fddf27-7265-4fd8-8e48-5cfd073650b7   \n",
       "\n",
       "                             org:postIn  \n",
       "0  7b211b34-df61-11e7-b235-c82a144c0a85  \n",
       "1  7b20ed7e-df61-11e7-bb65-c82a144c0a85  \n",
       "2  7b21152e-df61-11e7-bdcf-c82a144c0a85  \n",
       "3  7b210cfa-df61-11e7-9864-c82a144c0a85  \n",
       "4  7b2138a6-df61-11e7-baf1-c82a144c0a85  "
      ]
     },
     "execution_count": 18,
     "metadata": {},
     "output_type": "execute_result"
    }
   ],
   "source": [
    "df = df.rename({'slp:resource_uri':'org:role'}, axis='columns')\n",
    "df['slp:resource_uri'] = [uuid4() for _ in range(df.shape[0])]\n",
    "df['org:postIn'] = [parties_d.get(mem['cam:sigla'], None) for mem in memberships]\n",
    "df.drop('rdfs:label', axis=1,inplace=True)\n",
    "df.head()\n"
   ]
  },
  {
   "cell_type": "markdown",
   "metadata": {},
   "source": [
    "#### 6.3.2 Save"
   ]
  },
  {
   "cell_type": "code",
   "execution_count": 19,
   "metadata": {},
   "outputs": [],
   "source": [
    "filename = 'posts_at_parties-{:}.csv'.format(PROV) \n",
    "file_path = '{:}{:}{:}'.format(POSTS_PATH, SUB_DIR, filename)\n",
    "df.to_csv(file_path, sep=';', encoding='utf-8', index=None)"
   ]
  }
 ],
 "metadata": {
  "kernelspec": {
   "display_name": "Python 3",
   "language": "python",
   "name": "python3"
  },
  "language_info": {
   "codemirror_mode": {
    "name": "ipython",
    "version": 3
   },
   "file_extension": ".py",
   "mimetype": "text/x-python",
   "name": "python",
   "nbconvert_exporter": "python",
   "pygments_lexer": "ipython3",
   "version": "3.6.1"
  }
 },
 "nbformat": 4,
 "nbformat_minor": 2
}
